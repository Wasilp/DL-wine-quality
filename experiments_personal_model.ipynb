{
 "metadata": {
  "language_info": {
   "codemirror_mode": {
    "name": "ipython",
    "version": 3
   },
   "file_extension": ".py",
   "mimetype": "text/x-python",
   "name": "python",
   "nbconvert_exporter": "python",
   "pygments_lexer": "ipython3",
   "version": "3.7.10-final"
  },
  "orig_nbformat": 2,
  "kernelspec": {
   "name": "python3",
   "display_name": "Python 3",
   "language": "python"
  }
 },
 "nbformat": 4,
 "nbformat_minor": 2,
 "cells": [
  {
   "cell_type": "code",
   "execution_count": 1,
   "metadata": {},
   "outputs": [],
   "source": [
    "import pandas as pd\n",
    "import numpy as np\n",
    "import torch\n",
    "import torch.nn as nn\n",
    "import torch.nn.functional as F\n",
    "from matplotlib import pyplot as plt\n",
    "from sklearn.utils import resample\n",
    "%matplotlib inline\n",
    "\n"
   ]
  },
  {
   "cell_type": "code",
   "execution_count": 2,
   "metadata": {},
   "outputs": [
    {
     "output_type": "execute_result",
     "data": {
      "text/plain": [
       "   fixed acidity  volatile acidity  citric acid  residual sugar  chlorides  \\\n",
       "0            7.4              0.70         0.00             1.9      0.076   \n",
       "1            7.8              0.88         0.00             2.6      0.098   \n",
       "2            7.8              0.76         0.04             2.3      0.092   \n",
       "3           11.2              0.28         0.56             1.9      0.075   \n",
       "4            7.4              0.70         0.00             1.9      0.076   \n",
       "\n",
       "   free sulfur dioxide  total sulfur dioxide  density    pH  sulphates  \\\n",
       "0                 11.0                  34.0   0.9978  3.51       0.56   \n",
       "1                 25.0                  67.0   0.9968  3.20       0.68   \n",
       "2                 15.0                  54.0   0.9970  3.26       0.65   \n",
       "3                 17.0                  60.0   0.9980  3.16       0.58   \n",
       "4                 11.0                  34.0   0.9978  3.51       0.56   \n",
       "\n",
       "   alcohol  quality  \n",
       "0      9.4        5  \n",
       "1      9.8        5  \n",
       "2      9.8        5  \n",
       "3      9.8        6  \n",
       "4      9.4        5  "
      ],
      "text/html": "<div>\n<style scoped>\n    .dataframe tbody tr th:only-of-type {\n        vertical-align: middle;\n    }\n\n    .dataframe tbody tr th {\n        vertical-align: top;\n    }\n\n    .dataframe thead th {\n        text-align: right;\n    }\n</style>\n<table border=\"1\" class=\"dataframe\">\n  <thead>\n    <tr style=\"text-align: right;\">\n      <th></th>\n      <th>fixed acidity</th>\n      <th>volatile acidity</th>\n      <th>citric acid</th>\n      <th>residual sugar</th>\n      <th>chlorides</th>\n      <th>free sulfur dioxide</th>\n      <th>total sulfur dioxide</th>\n      <th>density</th>\n      <th>pH</th>\n      <th>sulphates</th>\n      <th>alcohol</th>\n      <th>quality</th>\n    </tr>\n  </thead>\n  <tbody>\n    <tr>\n      <th>0</th>\n      <td>7.4</td>\n      <td>0.70</td>\n      <td>0.00</td>\n      <td>1.9</td>\n      <td>0.076</td>\n      <td>11.0</td>\n      <td>34.0</td>\n      <td>0.9978</td>\n      <td>3.51</td>\n      <td>0.56</td>\n      <td>9.4</td>\n      <td>5</td>\n    </tr>\n    <tr>\n      <th>1</th>\n      <td>7.8</td>\n      <td>0.88</td>\n      <td>0.00</td>\n      <td>2.6</td>\n      <td>0.098</td>\n      <td>25.0</td>\n      <td>67.0</td>\n      <td>0.9968</td>\n      <td>3.20</td>\n      <td>0.68</td>\n      <td>9.8</td>\n      <td>5</td>\n    </tr>\n    <tr>\n      <th>2</th>\n      <td>7.8</td>\n      <td>0.76</td>\n      <td>0.04</td>\n      <td>2.3</td>\n      <td>0.092</td>\n      <td>15.0</td>\n      <td>54.0</td>\n      <td>0.9970</td>\n      <td>3.26</td>\n      <td>0.65</td>\n      <td>9.8</td>\n      <td>5</td>\n    </tr>\n    <tr>\n      <th>3</th>\n      <td>11.2</td>\n      <td>0.28</td>\n      <td>0.56</td>\n      <td>1.9</td>\n      <td>0.075</td>\n      <td>17.0</td>\n      <td>60.0</td>\n      <td>0.9980</td>\n      <td>3.16</td>\n      <td>0.58</td>\n      <td>9.8</td>\n      <td>6</td>\n    </tr>\n    <tr>\n      <th>4</th>\n      <td>7.4</td>\n      <td>0.70</td>\n      <td>0.00</td>\n      <td>1.9</td>\n      <td>0.076</td>\n      <td>11.0</td>\n      <td>34.0</td>\n      <td>0.9978</td>\n      <td>3.51</td>\n      <td>0.56</td>\n      <td>9.4</td>\n      <td>5</td>\n    </tr>\n  </tbody>\n</table>\n</div>"
     },
     "metadata": {},
     "execution_count": 2
    }
   ],
   "source": [
    "filename = \"./data/wine.csv\"\n",
    "df = pd.read_csv(filename)\n",
    "# drop col index\n",
    "df = df.drop(['index'],axis = 1)\n",
    "df.head()"
   ]
  },
  {
   "cell_type": "code",
   "execution_count": 3,
   "metadata": {},
   "outputs": [
    {
     "output_type": "stream",
     "name": "stdout",
     "text": [
      "(19852, 12)\n3    2836\n4    2836\n5    2836\n6    2836\n7    2836\n8    2836\n9    2836\nName: quality, dtype: int64\n"
     ]
    },
    {
     "output_type": "execute_result",
     "data": {
      "text/plain": [
       "       fixed acidity  volatile acidity  citric acid  residual sugar  \\\n",
       "0                6.1              0.26         0.25             2.9   \n",
       "1               10.4              0.44         0.42             1.5   \n",
       "2                6.5              0.48         0.02             0.9   \n",
       "3                8.0              0.83         0.27             2.0   \n",
       "4                7.0              0.39         0.24             1.0   \n",
       "...              ...               ...          ...             ...   \n",
       "19847            9.4              0.30         0.56             2.8   \n",
       "19848            7.6              0.28         0.39             1.2   \n",
       "19849            6.7              0.33         0.36             6.6   \n",
       "19850            7.9              0.64         0.46            10.6   \n",
       "19851            6.0              0.20         0.26             6.8   \n",
       "\n",
       "       chlorides  free sulfur dioxide  total sulfur dioxide  density    pH  \\\n",
       "0          0.047                289.0                 440.0  0.99314  3.44   \n",
       "1          0.145                 34.0                  48.0  0.99832  3.38   \n",
       "2          0.043                 32.0                  99.0  0.99226  3.14   \n",
       "3          0.080                 11.0                  63.0  0.99652  3.29   \n",
       "4          0.048                  8.0                 119.0  0.99230  3.00   \n",
       "...          ...                  ...                   ...      ...   ...   \n",
       "19847      0.080                  6.0                  17.0  0.99640  3.15   \n",
       "19848      0.038                 21.0                 115.0  0.99400  3.16   \n",
       "19849      0.042                 34.0                 116.0  0.99123  2.97   \n",
       "19850      0.244                 33.0                 227.0  0.99830  2.87   \n",
       "19851      0.049                 22.0                  93.0  0.99280  3.15   \n",
       "\n",
       "       sulphates  alcohol  quality  \n",
       "0           0.64     10.5        3  \n",
       "1           0.86      9.9        3  \n",
       "2           0.47      9.8        4  \n",
       "3           0.48      9.8        4  \n",
       "4           0.31     10.1        4  \n",
       "...          ...      ...      ...  \n",
       "19847       0.92     11.7        8  \n",
       "19848       0.67     10.0        6  \n",
       "19849       0.31     12.2        8  \n",
       "19850       0.74      9.1        3  \n",
       "19851       0.42     11.0        6  \n",
       "\n",
       "[19852 rows x 12 columns]"
      ],
      "text/html": "<div>\n<style scoped>\n    .dataframe tbody tr th:only-of-type {\n        vertical-align: middle;\n    }\n\n    .dataframe tbody tr th {\n        vertical-align: top;\n    }\n\n    .dataframe thead th {\n        text-align: right;\n    }\n</style>\n<table border=\"1\" class=\"dataframe\">\n  <thead>\n    <tr style=\"text-align: right;\">\n      <th></th>\n      <th>fixed acidity</th>\n      <th>volatile acidity</th>\n      <th>citric acid</th>\n      <th>residual sugar</th>\n      <th>chlorides</th>\n      <th>free sulfur dioxide</th>\n      <th>total sulfur dioxide</th>\n      <th>density</th>\n      <th>pH</th>\n      <th>sulphates</th>\n      <th>alcohol</th>\n      <th>quality</th>\n    </tr>\n  </thead>\n  <tbody>\n    <tr>\n      <th>0</th>\n      <td>6.1</td>\n      <td>0.26</td>\n      <td>0.25</td>\n      <td>2.9</td>\n      <td>0.047</td>\n      <td>289.0</td>\n      <td>440.0</td>\n      <td>0.99314</td>\n      <td>3.44</td>\n      <td>0.64</td>\n      <td>10.5</td>\n      <td>3</td>\n    </tr>\n    <tr>\n      <th>1</th>\n      <td>10.4</td>\n      <td>0.44</td>\n      <td>0.42</td>\n      <td>1.5</td>\n      <td>0.145</td>\n      <td>34.0</td>\n      <td>48.0</td>\n      <td>0.99832</td>\n      <td>3.38</td>\n      <td>0.86</td>\n      <td>9.9</td>\n      <td>3</td>\n    </tr>\n    <tr>\n      <th>2</th>\n      <td>6.5</td>\n      <td>0.48</td>\n      <td>0.02</td>\n      <td>0.9</td>\n      <td>0.043</td>\n      <td>32.0</td>\n      <td>99.0</td>\n      <td>0.99226</td>\n      <td>3.14</td>\n      <td>0.47</td>\n      <td>9.8</td>\n      <td>4</td>\n    </tr>\n    <tr>\n      <th>3</th>\n      <td>8.0</td>\n      <td>0.83</td>\n      <td>0.27</td>\n      <td>2.0</td>\n      <td>0.080</td>\n      <td>11.0</td>\n      <td>63.0</td>\n      <td>0.99652</td>\n      <td>3.29</td>\n      <td>0.48</td>\n      <td>9.8</td>\n      <td>4</td>\n    </tr>\n    <tr>\n      <th>4</th>\n      <td>7.0</td>\n      <td>0.39</td>\n      <td>0.24</td>\n      <td>1.0</td>\n      <td>0.048</td>\n      <td>8.0</td>\n      <td>119.0</td>\n      <td>0.99230</td>\n      <td>3.00</td>\n      <td>0.31</td>\n      <td>10.1</td>\n      <td>4</td>\n    </tr>\n    <tr>\n      <th>...</th>\n      <td>...</td>\n      <td>...</td>\n      <td>...</td>\n      <td>...</td>\n      <td>...</td>\n      <td>...</td>\n      <td>...</td>\n      <td>...</td>\n      <td>...</td>\n      <td>...</td>\n      <td>...</td>\n      <td>...</td>\n    </tr>\n    <tr>\n      <th>19847</th>\n      <td>9.4</td>\n      <td>0.30</td>\n      <td>0.56</td>\n      <td>2.8</td>\n      <td>0.080</td>\n      <td>6.0</td>\n      <td>17.0</td>\n      <td>0.99640</td>\n      <td>3.15</td>\n      <td>0.92</td>\n      <td>11.7</td>\n      <td>8</td>\n    </tr>\n    <tr>\n      <th>19848</th>\n      <td>7.6</td>\n      <td>0.28</td>\n      <td>0.39</td>\n      <td>1.2</td>\n      <td>0.038</td>\n      <td>21.0</td>\n      <td>115.0</td>\n      <td>0.99400</td>\n      <td>3.16</td>\n      <td>0.67</td>\n      <td>10.0</td>\n      <td>6</td>\n    </tr>\n    <tr>\n      <th>19849</th>\n      <td>6.7</td>\n      <td>0.33</td>\n      <td>0.36</td>\n      <td>6.6</td>\n      <td>0.042</td>\n      <td>34.0</td>\n      <td>116.0</td>\n      <td>0.99123</td>\n      <td>2.97</td>\n      <td>0.31</td>\n      <td>12.2</td>\n      <td>8</td>\n    </tr>\n    <tr>\n      <th>19850</th>\n      <td>7.9</td>\n      <td>0.64</td>\n      <td>0.46</td>\n      <td>10.6</td>\n      <td>0.244</td>\n      <td>33.0</td>\n      <td>227.0</td>\n      <td>0.99830</td>\n      <td>2.87</td>\n      <td>0.74</td>\n      <td>9.1</td>\n      <td>3</td>\n    </tr>\n    <tr>\n      <th>19851</th>\n      <td>6.0</td>\n      <td>0.20</td>\n      <td>0.26</td>\n      <td>6.8</td>\n      <td>0.049</td>\n      <td>22.0</td>\n      <td>93.0</td>\n      <td>0.99280</td>\n      <td>3.15</td>\n      <td>0.42</td>\n      <td>11.0</td>\n      <td>6</td>\n    </tr>\n  </tbody>\n</table>\n<p>19852 rows × 12 columns</p>\n</div>"
     },
     "metadata": {},
     "execution_count": 3
    }
   ],
   "source": [
    "#Resample:\n",
    "df_majority = df[df['quality']== 6]\n",
    "for i in range(3,10):\n",
    "    majority_len = df[df['quality']== 6].shape[0]\n",
    "    if i != 6:\n",
    "        minority_len = df[df['quality'] == i].shape[0]\n",
    "\n",
    "        df_minority = df[df['quality'] == i]\n",
    "\n",
    "        df_majority_upsampled = resample(df_minority,replace=True,n_samples = majority_len,random_state=1)\n",
    "\n",
    "        df_majority = df_majority.append(df_majority_upsampled)\n",
    "        \n",
    "\n",
    "df = df_majority\n",
    "print(df.shape)\n",
    "print(df['quality'].value_counts())\n",
    "df = df.sample(frac=1).reset_index(drop=True) # Shuffle dataframe\n",
    "df"
   ]
  },
  {
   "cell_type": "code",
   "execution_count": 4,
   "metadata": {},
   "outputs": [
    {
     "output_type": "execute_result",
     "data": {
      "text/plain": [
       "array([[1, 0, 0, ..., 0, 0, 0],\n",
       "       [1, 0, 0, ..., 0, 0, 0],\n",
       "       [0, 1, 0, ..., 0, 0, 0],\n",
       "       ...,\n",
       "       [0, 0, 0, ..., 0, 1, 0],\n",
       "       [1, 0, 0, ..., 0, 0, 0],\n",
       "       [0, 0, 0, ..., 0, 0, 0]], dtype=uint8)"
      ]
     },
     "metadata": {},
     "execution_count": 4
    }
   ],
   "source": [
    "# Creating a test/train split\n",
    "\n",
    "train_test_split_fraction = 0.80\n",
    "split_index = int(df.shape[0] * train_test_split_fraction)\n",
    "df_train = df[:split_index]\n",
    "df_test = df[split_index:]\n",
    "\n",
    "target = pd.get_dummies(df['quality']).values # One hot encode\n",
    "\n",
    "#target[:5]\n",
    "#target = df['quality'].to_numpy()\n",
    "#target = target.reshape(6497,1)\n",
    "\n",
    "target"
   ]
  },
  {
   "cell_type": "code",
   "execution_count": 5,
   "metadata": {},
   "outputs": [
    {
     "output_type": "stream",
     "name": "stdout",
     "text": [
      "(15881, 11)\n(3971, 11)\n(15881, 7)\n(3971, 7)\n"
     ]
    }
   ],
   "source": [
    "# Selecting the features and the target\n",
    "X_train = df_train.drop('quality', axis = 1).values\n",
    "X_test = df_test.drop('quality', axis = 1).values\n",
    "\n",
    "y_train = target[:split_index]\n",
    "y_test = target[split_index:]\n",
    "print(X_train.shape)\n",
    "print(X_test.shape)\n",
    "print(y_train.shape)\n",
    "print(y_test.shape)"
   ]
  },
  {
   "cell_type": "code",
   "execution_count": 6,
   "metadata": {},
   "outputs": [],
   "source": [
    "X_train = torch.tensor(X_train.astype(np.float32)) \n",
    "y_train = torch.tensor(y_train.astype(np.float32))\n",
    "X_test = torch.tensor(X_test.astype(np.float32)) \n",
    "y_test = torch.tensor(y_test.astype(np.float32))"
   ]
  },
  {
   "cell_type": "code",
   "execution_count": 7,
   "metadata": {},
   "outputs": [
    {
     "output_type": "execute_result",
     "data": {
      "text/plain": [
       "2"
      ]
     },
     "metadata": {},
     "execution_count": 7
    }
   ],
   "source": [
    "# NEED TO DEFINE NEURONS,BATCH,EPOCHS,NB_LAYER,MODEL,LOSS FUNC\n",
    "nb_hidden_neurons = 200\n",
    "nb_layer = 6 \n",
    "nb_features=X_train.shape[1]\n",
    "nb_classes = len(pd.unique(df['quality']))\n",
    "activation_function = [nn.CELU(),nn.SiLU(),nn.Sigmoid()]\n",
    "last_layer_activation = nn.Softmax()\n",
    "layer_kind = nn.Linear\n",
    "batch_size = 200\n",
    "epochs = 200\n",
    "criterion = nn.MSELoss()\n",
    "learning_rate = 0.001\n",
    "len(activation_function)"
   ]
  },
  {
   "cell_type": "code",
   "execution_count": 8,
   "metadata": {},
   "outputs": [],
   "source": [
    "class Network(nn.Module):\n",
    "\n",
    "    def __init__(self,nb_features,nb_classes,nb_layer,activation_function,last_layer_activation,layer_kind,nb_hidden_neurons):\n",
    "        \"\"\"Here we define the layers\n",
    "        \"\"\"\n",
    "        \n",
    "        super().__init__()\n",
    "        self.activation_function = activation_function\n",
    "        self.last_layer_activation = last_layer_activation\n",
    "        self.layer_input=layer_kind(nb_features,nb_hidden_neurons)\n",
    "        self.layer_hidden=layer_kind(nb_hidden_neurons,nb_hidden_neurons)\n",
    "        self.layer_output=layer_kind(nb_hidden_neurons,nb_classes)\n",
    "            \n",
    "        \n",
    "        \n",
    "\n",
    "    def forward(self,x):\n",
    "        \"\"\"Here we combine the layers\n",
    "        \"\"\" \n",
    "        x = self.activation_function[0](self.layer_input(x))\n",
    "        for (i,func) in list(enumerate(self.activation_function))[1:]:\n",
    "            x = func(self.layer_hidden(x))\n",
    "  \n",
    "                \n",
    "        x = last_layer_activation(self.layer_output(x))\n",
    "                \n",
    "        return x"
   ]
  },
  {
   "cell_type": "code",
   "execution_count": 9,
   "metadata": {},
   "outputs": [
    {
     "output_type": "execute_result",
     "data": {
      "text/plain": [
       "Network(\n",
       "  (last_layer_activation): Softmax(dim=None)\n",
       "  (layer_input): Linear(in_features=11, out_features=200, bias=True)\n",
       "  (layer_hidden): Linear(in_features=200, out_features=200, bias=True)\n",
       "  (layer_output): Linear(in_features=200, out_features=7, bias=True)\n",
       ")"
      ]
     },
     "metadata": {},
     "execution_count": 9
    }
   ],
   "source": [
    "my_nn = Network(nb_features,nb_classes,nb_layer,activation_function,last_layer_activation,layer_kind,nb_hidden_neurons)\n",
    "my_nn\n",
    "\n"
   ]
  },
  {
   "cell_type": "code",
   "execution_count": 10,
   "metadata": {},
   "outputs": [
    {
     "output_type": "execute_result",
     "data": {
      "text/plain": [
       "Adam (\n",
       "Parameter Group 0\n",
       "    amsgrad: False\n",
       "    betas: (0.9, 0.999)\n",
       "    eps: 1e-08\n",
       "    lr: 0.001\n",
       "    weight_decay: 0\n",
       ")"
      ]
     },
     "metadata": {},
     "execution_count": 10
    }
   ],
   "source": [
    "optimizer = torch.optim.Adam(my_nn.parameters(), lr=learning_rate)\n",
    "optimizer"
   ]
  },
  {
   "cell_type": "code",
   "execution_count": 11,
   "metadata": {},
   "outputs": [],
   "source": [
    "def training(batch_size : int, nb_steps_loss_sum : int,epochs):\n",
    "    \"\"\" Train the neural network, feeding it `batch_size` at a time\n",
    "    and saving statistics every `nb_steps_loss_sum` steps.\n",
    "    \n",
    "    Arguments:\n",
    "    \n",
    "    - batch_size [int] : the number of input samples at each training step (called a batch)\n",
    "    - nb_steps_loss_sum [int] : the number of batches before saving the loss for plotting\n",
    "    \n",
    "    Returns:\n",
    "    - loss_list : [List[double]] : value of the loss every `nb_steps_loss_sum` steps\n",
    "    \"\"\"\n",
    "\n",
    "    loss_list = []\n",
    "    running_loss = 0\n",
    "    batch_nb = 0\n",
    "\n",
    "    for epoch in range(0,epochs): # Number of times to iterate through the complete dataset\n",
    "        for idx in range(0, X_train.shape[0], batch_size):\n",
    "            \n",
    "            # Get input and output\n",
    "            input_batch = X_train[idx:idx + batch_size]\n",
    "            target = y_train[idx:idx + batch_size]\n",
    "            \n",
    "            # TO COMPLETE:\n",
    "            # - zero gradient buffers\n",
    "            optimizer.zero_grad()\n",
    "            # - compute the forward pass\n",
    "            output = my_nn(input_batch.float())\n",
    "\n",
    "            # - compute the loss\n",
    "            loss = criterion(output, target.float())\n",
    "            # - backpropagate\n",
    "            loss.backward()\n",
    "            # - do a step\n",
    "            optimizer.step()\n",
    "          \n",
    "            \n",
    "            # Save the loss every `running_loss_steps` batches\n",
    "            running_loss += loss.item()\n",
    "            save_loss_condition = batch_nb % nb_steps_loss_sum == (nb_steps_loss_sum - 1)\n",
    "            if save_loss_condition:    \n",
    "                loss_list.append(running_loss)\n",
    "                running_loss = 0.0\n",
    "\n",
    "\n",
    "            batch_nb+= 1\n",
    "        \n",
    "    return loss_list"
   ]
  },
  {
   "cell_type": "code",
   "execution_count": 12,
   "metadata": {
    "tags": []
   },
   "outputs": [
    {
     "output_type": "display_data",
     "data": {
      "text/plain": "<Figure size 432x288 with 1 Axes>",
      "image/svg+xml": "<?xml version=\"1.0\" encoding=\"utf-8\" standalone=\"no\"?>\r\n<!DOCTYPE svg PUBLIC \"-//W3C//DTD SVG 1.1//EN\"\r\n  \"http://www.w3.org/Graphics/SVG/1.1/DTD/svg11.dtd\">\r\n<!-- Created with matplotlib (https://matplotlib.org/) -->\r\n<svg height=\"277.314375pt\" version=\"1.1\" viewBox=\"0 0 385.78125 277.314375\" width=\"385.78125pt\" xmlns=\"http://www.w3.org/2000/svg\" xmlns:xlink=\"http://www.w3.org/1999/xlink\">\r\n <metadata>\r\n  <rdf:RDF xmlns:cc=\"http://creativecommons.org/ns#\" xmlns:dc=\"http://purl.org/dc/elements/1.1/\" xmlns:rdf=\"http://www.w3.org/1999/02/22-rdf-syntax-ns#\">\r\n   <cc:Work>\r\n    <dc:type rdf:resource=\"http://purl.org/dc/dcmitype/StillImage\"/>\r\n    <dc:date>2021-03-05T14:31:49.590414</dc:date>\r\n    <dc:format>image/svg+xml</dc:format>\r\n    <dc:creator>\r\n     <cc:Agent>\r\n      <dc:title>Matplotlib v3.3.4, https://matplotlib.org/</dc:title>\r\n     </cc:Agent>\r\n    </dc:creator>\r\n   </cc:Work>\r\n  </rdf:RDF>\r\n </metadata>\r\n <defs>\r\n  <style type=\"text/css\">*{stroke-linecap:butt;stroke-linejoin:round;}</style>\r\n </defs>\r\n <g id=\"figure_1\">\r\n  <g id=\"patch_1\">\r\n   <path d=\"M 0 277.314375 \r\nL 385.78125 277.314375 \r\nL 385.78125 0 \r\nL 0 0 \r\nz\r\n\" style=\"fill:none;\"/>\r\n  </g>\r\n  <g id=\"axes_1\">\r\n   <g id=\"patch_2\">\r\n    <path d=\"M 43.78125 239.758125 \r\nL 378.58125 239.758125 \r\nL 378.58125 22.318125 \r\nL 43.78125 22.318125 \r\nz\r\n\" style=\"fill:#ffffff;\"/>\r\n   </g>\r\n   <g id=\"matplotlib.axis_1\">\r\n    <g id=\"xtick_1\">\r\n     <g id=\"line2d_1\">\r\n      <defs>\r\n       <path d=\"M 0 0 \r\nL 0 3.5 \r\n\" id=\"m79025d407c\" style=\"stroke:#000000;stroke-width:0.8;\"/>\r\n      </defs>\r\n      <g>\r\n       <use style=\"stroke:#000000;stroke-width:0.8;\" x=\"58.999432\" xlink:href=\"#m79025d407c\" y=\"239.758125\"/>\r\n      </g>\r\n     </g>\r\n     <g id=\"text_1\">\r\n      <!-- 0 -->\r\n      <g transform=\"translate(55.818182 254.356562)scale(0.1 -0.1)\">\r\n       <defs>\r\n        <path d=\"M 31.78125 66.40625 \r\nQ 24.171875 66.40625 20.328125 58.90625 \r\nQ 16.5 51.421875 16.5 36.375 \r\nQ 16.5 21.390625 20.328125 13.890625 \r\nQ 24.171875 6.390625 31.78125 6.390625 \r\nQ 39.453125 6.390625 43.28125 13.890625 \r\nQ 47.125 21.390625 47.125 36.375 \r\nQ 47.125 51.421875 43.28125 58.90625 \r\nQ 39.453125 66.40625 31.78125 66.40625 \r\nz\r\nM 31.78125 74.21875 \r\nQ 44.046875 74.21875 50.515625 64.515625 \r\nQ 56.984375 54.828125 56.984375 36.375 \r\nQ 56.984375 17.96875 50.515625 8.265625 \r\nQ 44.046875 -1.421875 31.78125 -1.421875 \r\nQ 19.53125 -1.421875 13.0625 8.265625 \r\nQ 6.59375 17.96875 6.59375 36.375 \r\nQ 6.59375 54.828125 13.0625 64.515625 \r\nQ 19.53125 74.21875 31.78125 74.21875 \r\nz\r\n\" id=\"DejaVuSans-48\"/>\r\n       </defs>\r\n       <use xlink:href=\"#DejaVuSans-48\"/>\r\n      </g>\r\n     </g>\r\n    </g>\r\n    <g id=\"xtick_2\">\r\n     <g id=\"line2d_2\">\r\n      <g>\r\n       <use style=\"stroke:#000000;stroke-width:0.8;\" x=\"97.06868\" xlink:href=\"#m79025d407c\" y=\"239.758125\"/>\r\n      </g>\r\n     </g>\r\n     <g id=\"text_2\">\r\n      <!-- 200 -->\r\n      <g transform=\"translate(87.52493 254.356562)scale(0.1 -0.1)\">\r\n       <defs>\r\n        <path d=\"M 19.1875 8.296875 \r\nL 53.609375 8.296875 \r\nL 53.609375 0 \r\nL 7.328125 0 \r\nL 7.328125 8.296875 \r\nQ 12.9375 14.109375 22.625 23.890625 \r\nQ 32.328125 33.6875 34.8125 36.53125 \r\nQ 39.546875 41.84375 41.421875 45.53125 \r\nQ 43.3125 49.21875 43.3125 52.78125 \r\nQ 43.3125 58.59375 39.234375 62.25 \r\nQ 35.15625 65.921875 28.609375 65.921875 \r\nQ 23.96875 65.921875 18.8125 64.3125 \r\nQ 13.671875 62.703125 7.8125 59.421875 \r\nL 7.8125 69.390625 \r\nQ 13.765625 71.78125 18.9375 73 \r\nQ 24.125 74.21875 28.421875 74.21875 \r\nQ 39.75 74.21875 46.484375 68.546875 \r\nQ 53.21875 62.890625 53.21875 53.421875 \r\nQ 53.21875 48.921875 51.53125 44.890625 \r\nQ 49.859375 40.875 45.40625 35.40625 \r\nQ 44.1875 33.984375 37.640625 27.21875 \r\nQ 31.109375 20.453125 19.1875 8.296875 \r\nz\r\n\" id=\"DejaVuSans-50\"/>\r\n       </defs>\r\n       <use xlink:href=\"#DejaVuSans-50\"/>\r\n       <use x=\"63.623047\" xlink:href=\"#DejaVuSans-48\"/>\r\n       <use x=\"127.246094\" xlink:href=\"#DejaVuSans-48\"/>\r\n      </g>\r\n     </g>\r\n    </g>\r\n    <g id=\"xtick_3\">\r\n     <g id=\"line2d_3\">\r\n      <g>\r\n       <use style=\"stroke:#000000;stroke-width:0.8;\" x=\"135.137927\" xlink:href=\"#m79025d407c\" y=\"239.758125\"/>\r\n      </g>\r\n     </g>\r\n     <g id=\"text_3\">\r\n      <!-- 400 -->\r\n      <g transform=\"translate(125.594177 254.356562)scale(0.1 -0.1)\">\r\n       <defs>\r\n        <path d=\"M 37.796875 64.3125 \r\nL 12.890625 25.390625 \r\nL 37.796875 25.390625 \r\nz\r\nM 35.203125 72.90625 \r\nL 47.609375 72.90625 \r\nL 47.609375 25.390625 \r\nL 58.015625 25.390625 \r\nL 58.015625 17.1875 \r\nL 47.609375 17.1875 \r\nL 47.609375 0 \r\nL 37.796875 0 \r\nL 37.796875 17.1875 \r\nL 4.890625 17.1875 \r\nL 4.890625 26.703125 \r\nz\r\n\" id=\"DejaVuSans-52\"/>\r\n       </defs>\r\n       <use xlink:href=\"#DejaVuSans-52\"/>\r\n       <use x=\"63.623047\" xlink:href=\"#DejaVuSans-48\"/>\r\n       <use x=\"127.246094\" xlink:href=\"#DejaVuSans-48\"/>\r\n      </g>\r\n     </g>\r\n    </g>\r\n    <g id=\"xtick_4\">\r\n     <g id=\"line2d_4\">\r\n      <g>\r\n       <use style=\"stroke:#000000;stroke-width:0.8;\" x=\"173.207175\" xlink:href=\"#m79025d407c\" y=\"239.758125\"/>\r\n      </g>\r\n     </g>\r\n     <g id=\"text_4\">\r\n      <!-- 600 -->\r\n      <g transform=\"translate(163.663425 254.356562)scale(0.1 -0.1)\">\r\n       <defs>\r\n        <path d=\"M 33.015625 40.375 \r\nQ 26.375 40.375 22.484375 35.828125 \r\nQ 18.609375 31.296875 18.609375 23.390625 \r\nQ 18.609375 15.53125 22.484375 10.953125 \r\nQ 26.375 6.390625 33.015625 6.390625 \r\nQ 39.65625 6.390625 43.53125 10.953125 \r\nQ 47.40625 15.53125 47.40625 23.390625 \r\nQ 47.40625 31.296875 43.53125 35.828125 \r\nQ 39.65625 40.375 33.015625 40.375 \r\nz\r\nM 52.59375 71.296875 \r\nL 52.59375 62.3125 \r\nQ 48.875 64.0625 45.09375 64.984375 \r\nQ 41.3125 65.921875 37.59375 65.921875 \r\nQ 27.828125 65.921875 22.671875 59.328125 \r\nQ 17.53125 52.734375 16.796875 39.40625 \r\nQ 19.671875 43.65625 24.015625 45.921875 \r\nQ 28.375 48.1875 33.59375 48.1875 \r\nQ 44.578125 48.1875 50.953125 41.515625 \r\nQ 57.328125 34.859375 57.328125 23.390625 \r\nQ 57.328125 12.15625 50.6875 5.359375 \r\nQ 44.046875 -1.421875 33.015625 -1.421875 \r\nQ 20.359375 -1.421875 13.671875 8.265625 \r\nQ 6.984375 17.96875 6.984375 36.375 \r\nQ 6.984375 53.65625 15.1875 63.9375 \r\nQ 23.390625 74.21875 37.203125 74.21875 \r\nQ 40.921875 74.21875 44.703125 73.484375 \r\nQ 48.484375 72.75 52.59375 71.296875 \r\nz\r\n\" id=\"DejaVuSans-54\"/>\r\n       </defs>\r\n       <use xlink:href=\"#DejaVuSans-54\"/>\r\n       <use x=\"63.623047\" xlink:href=\"#DejaVuSans-48\"/>\r\n       <use x=\"127.246094\" xlink:href=\"#DejaVuSans-48\"/>\r\n      </g>\r\n     </g>\r\n    </g>\r\n    <g id=\"xtick_5\">\r\n     <g id=\"line2d_5\">\r\n      <g>\r\n       <use style=\"stroke:#000000;stroke-width:0.8;\" x=\"211.276423\" xlink:href=\"#m79025d407c\" y=\"239.758125\"/>\r\n      </g>\r\n     </g>\r\n     <g id=\"text_5\">\r\n      <!-- 800 -->\r\n      <g transform=\"translate(201.732673 254.356562)scale(0.1 -0.1)\">\r\n       <defs>\r\n        <path d=\"M 31.78125 34.625 \r\nQ 24.75 34.625 20.71875 30.859375 \r\nQ 16.703125 27.09375 16.703125 20.515625 \r\nQ 16.703125 13.921875 20.71875 10.15625 \r\nQ 24.75 6.390625 31.78125 6.390625 \r\nQ 38.8125 6.390625 42.859375 10.171875 \r\nQ 46.921875 13.96875 46.921875 20.515625 \r\nQ 46.921875 27.09375 42.890625 30.859375 \r\nQ 38.875 34.625 31.78125 34.625 \r\nz\r\nM 21.921875 38.8125 \r\nQ 15.578125 40.375 12.03125 44.71875 \r\nQ 8.5 49.078125 8.5 55.328125 \r\nQ 8.5 64.0625 14.71875 69.140625 \r\nQ 20.953125 74.21875 31.78125 74.21875 \r\nQ 42.671875 74.21875 48.875 69.140625 \r\nQ 55.078125 64.0625 55.078125 55.328125 \r\nQ 55.078125 49.078125 51.53125 44.71875 \r\nQ 48 40.375 41.703125 38.8125 \r\nQ 48.828125 37.15625 52.796875 32.3125 \r\nQ 56.78125 27.484375 56.78125 20.515625 \r\nQ 56.78125 9.90625 50.3125 4.234375 \r\nQ 43.84375 -1.421875 31.78125 -1.421875 \r\nQ 19.734375 -1.421875 13.25 4.234375 \r\nQ 6.78125 9.90625 6.78125 20.515625 \r\nQ 6.78125 27.484375 10.78125 32.3125 \r\nQ 14.796875 37.15625 21.921875 38.8125 \r\nz\r\nM 18.3125 54.390625 \r\nQ 18.3125 48.734375 21.84375 45.5625 \r\nQ 25.390625 42.390625 31.78125 42.390625 \r\nQ 38.140625 42.390625 41.71875 45.5625 \r\nQ 45.3125 48.734375 45.3125 54.390625 \r\nQ 45.3125 60.0625 41.71875 63.234375 \r\nQ 38.140625 66.40625 31.78125 66.40625 \r\nQ 25.390625 66.40625 21.84375 63.234375 \r\nQ 18.3125 60.0625 18.3125 54.390625 \r\nz\r\n\" id=\"DejaVuSans-56\"/>\r\n       </defs>\r\n       <use xlink:href=\"#DejaVuSans-56\"/>\r\n       <use x=\"63.623047\" xlink:href=\"#DejaVuSans-48\"/>\r\n       <use x=\"127.246094\" xlink:href=\"#DejaVuSans-48\"/>\r\n      </g>\r\n     </g>\r\n    </g>\r\n    <g id=\"xtick_6\">\r\n     <g id=\"line2d_6\">\r\n      <g>\r\n       <use style=\"stroke:#000000;stroke-width:0.8;\" x=\"249.345671\" xlink:href=\"#m79025d407c\" y=\"239.758125\"/>\r\n      </g>\r\n     </g>\r\n     <g id=\"text_6\">\r\n      <!-- 1000 -->\r\n      <g transform=\"translate(236.620671 254.356562)scale(0.1 -0.1)\">\r\n       <defs>\r\n        <path d=\"M 12.40625 8.296875 \r\nL 28.515625 8.296875 \r\nL 28.515625 63.921875 \r\nL 10.984375 60.40625 \r\nL 10.984375 69.390625 \r\nL 28.421875 72.90625 \r\nL 38.28125 72.90625 \r\nL 38.28125 8.296875 \r\nL 54.390625 8.296875 \r\nL 54.390625 0 \r\nL 12.40625 0 \r\nz\r\n\" id=\"DejaVuSans-49\"/>\r\n       </defs>\r\n       <use xlink:href=\"#DejaVuSans-49\"/>\r\n       <use x=\"63.623047\" xlink:href=\"#DejaVuSans-48\"/>\r\n       <use x=\"127.246094\" xlink:href=\"#DejaVuSans-48\"/>\r\n       <use x=\"190.869141\" xlink:href=\"#DejaVuSans-48\"/>\r\n      </g>\r\n     </g>\r\n    </g>\r\n    <g id=\"xtick_7\">\r\n     <g id=\"line2d_7\">\r\n      <g>\r\n       <use style=\"stroke:#000000;stroke-width:0.8;\" x=\"287.414919\" xlink:href=\"#m79025d407c\" y=\"239.758125\"/>\r\n      </g>\r\n     </g>\r\n     <g id=\"text_7\">\r\n      <!-- 1200 -->\r\n      <g transform=\"translate(274.689919 254.356562)scale(0.1 -0.1)\">\r\n       <use xlink:href=\"#DejaVuSans-49\"/>\r\n       <use x=\"63.623047\" xlink:href=\"#DejaVuSans-50\"/>\r\n       <use x=\"127.246094\" xlink:href=\"#DejaVuSans-48\"/>\r\n       <use x=\"190.869141\" xlink:href=\"#DejaVuSans-48\"/>\r\n      </g>\r\n     </g>\r\n    </g>\r\n    <g id=\"xtick_8\">\r\n     <g id=\"line2d_8\">\r\n      <g>\r\n       <use style=\"stroke:#000000;stroke-width:0.8;\" x=\"325.484167\" xlink:href=\"#m79025d407c\" y=\"239.758125\"/>\r\n      </g>\r\n     </g>\r\n     <g id=\"text_8\">\r\n      <!-- 1400 -->\r\n      <g transform=\"translate(312.759167 254.356562)scale(0.1 -0.1)\">\r\n       <use xlink:href=\"#DejaVuSans-49\"/>\r\n       <use x=\"63.623047\" xlink:href=\"#DejaVuSans-52\"/>\r\n       <use x=\"127.246094\" xlink:href=\"#DejaVuSans-48\"/>\r\n       <use x=\"190.869141\" xlink:href=\"#DejaVuSans-48\"/>\r\n      </g>\r\n     </g>\r\n    </g>\r\n    <g id=\"xtick_9\">\r\n     <g id=\"line2d_9\">\r\n      <g>\r\n       <use style=\"stroke:#000000;stroke-width:0.8;\" x=\"363.553414\" xlink:href=\"#m79025d407c\" y=\"239.758125\"/>\r\n      </g>\r\n     </g>\r\n     <g id=\"text_9\">\r\n      <!-- 1600 -->\r\n      <g transform=\"translate(350.828414 254.356562)scale(0.1 -0.1)\">\r\n       <use xlink:href=\"#DejaVuSans-49\"/>\r\n       <use x=\"63.623047\" xlink:href=\"#DejaVuSans-54\"/>\r\n       <use x=\"127.246094\" xlink:href=\"#DejaVuSans-48\"/>\r\n       <use x=\"190.869141\" xlink:href=\"#DejaVuSans-48\"/>\r\n      </g>\r\n     </g>\r\n    </g>\r\n    <g id=\"text_10\">\r\n     <!-- Batches/10 -->\r\n     <g transform=\"translate(183.080469 268.034687)scale(0.1 -0.1)\">\r\n      <defs>\r\n       <path d=\"M 19.671875 34.8125 \r\nL 19.671875 8.109375 \r\nL 35.5 8.109375 \r\nQ 43.453125 8.109375 47.28125 11.40625 \r\nQ 51.125 14.703125 51.125 21.484375 \r\nQ 51.125 28.328125 47.28125 31.5625 \r\nQ 43.453125 34.8125 35.5 34.8125 \r\nz\r\nM 19.671875 64.796875 \r\nL 19.671875 42.828125 \r\nL 34.28125 42.828125 \r\nQ 41.5 42.828125 45.03125 45.53125 \r\nQ 48.578125 48.25 48.578125 53.8125 \r\nQ 48.578125 59.328125 45.03125 62.0625 \r\nQ 41.5 64.796875 34.28125 64.796875 \r\nz\r\nM 9.8125 72.90625 \r\nL 35.015625 72.90625 \r\nQ 46.296875 72.90625 52.390625 68.21875 \r\nQ 58.5 63.53125 58.5 54.890625 \r\nQ 58.5 48.1875 55.375 44.234375 \r\nQ 52.25 40.28125 46.1875 39.3125 \r\nQ 53.46875 37.75 57.5 32.78125 \r\nQ 61.53125 27.828125 61.53125 20.40625 \r\nQ 61.53125 10.640625 54.890625 5.3125 \r\nQ 48.25 0 35.984375 0 \r\nL 9.8125 0 \r\nz\r\n\" id=\"DejaVuSans-66\"/>\r\n       <path d=\"M 34.28125 27.484375 \r\nQ 23.390625 27.484375 19.1875 25 \r\nQ 14.984375 22.515625 14.984375 16.5 \r\nQ 14.984375 11.71875 18.140625 8.90625 \r\nQ 21.296875 6.109375 26.703125 6.109375 \r\nQ 34.1875 6.109375 38.703125 11.40625 \r\nQ 43.21875 16.703125 43.21875 25.484375 \r\nL 43.21875 27.484375 \r\nz\r\nM 52.203125 31.203125 \r\nL 52.203125 0 \r\nL 43.21875 0 \r\nL 43.21875 8.296875 \r\nQ 40.140625 3.328125 35.546875 0.953125 \r\nQ 30.953125 -1.421875 24.3125 -1.421875 \r\nQ 15.921875 -1.421875 10.953125 3.296875 \r\nQ 6 8.015625 6 15.921875 \r\nQ 6 25.140625 12.171875 29.828125 \r\nQ 18.359375 34.515625 30.609375 34.515625 \r\nL 43.21875 34.515625 \r\nL 43.21875 35.40625 \r\nQ 43.21875 41.609375 39.140625 45 \r\nQ 35.0625 48.390625 27.6875 48.390625 \r\nQ 23 48.390625 18.546875 47.265625 \r\nQ 14.109375 46.140625 10.015625 43.890625 \r\nL 10.015625 52.203125 \r\nQ 14.9375 54.109375 19.578125 55.046875 \r\nQ 24.21875 56 28.609375 56 \r\nQ 40.484375 56 46.34375 49.84375 \r\nQ 52.203125 43.703125 52.203125 31.203125 \r\nz\r\n\" id=\"DejaVuSans-97\"/>\r\n       <path d=\"M 18.3125 70.21875 \r\nL 18.3125 54.6875 \r\nL 36.8125 54.6875 \r\nL 36.8125 47.703125 \r\nL 18.3125 47.703125 \r\nL 18.3125 18.015625 \r\nQ 18.3125 11.328125 20.140625 9.421875 \r\nQ 21.96875 7.515625 27.59375 7.515625 \r\nL 36.8125 7.515625 \r\nL 36.8125 0 \r\nL 27.59375 0 \r\nQ 17.1875 0 13.234375 3.875 \r\nQ 9.28125 7.765625 9.28125 18.015625 \r\nL 9.28125 47.703125 \r\nL 2.6875 47.703125 \r\nL 2.6875 54.6875 \r\nL 9.28125 54.6875 \r\nL 9.28125 70.21875 \r\nz\r\n\" id=\"DejaVuSans-116\"/>\r\n       <path d=\"M 48.78125 52.59375 \r\nL 48.78125 44.1875 \r\nQ 44.96875 46.296875 41.140625 47.34375 \r\nQ 37.3125 48.390625 33.40625 48.390625 \r\nQ 24.65625 48.390625 19.8125 42.84375 \r\nQ 14.984375 37.3125 14.984375 27.296875 \r\nQ 14.984375 17.28125 19.8125 11.734375 \r\nQ 24.65625 6.203125 33.40625 6.203125 \r\nQ 37.3125 6.203125 41.140625 7.25 \r\nQ 44.96875 8.296875 48.78125 10.40625 \r\nL 48.78125 2.09375 \r\nQ 45.015625 0.34375 40.984375 -0.53125 \r\nQ 36.96875 -1.421875 32.421875 -1.421875 \r\nQ 20.0625 -1.421875 12.78125 6.34375 \r\nQ 5.515625 14.109375 5.515625 27.296875 \r\nQ 5.515625 40.671875 12.859375 48.328125 \r\nQ 20.21875 56 33.015625 56 \r\nQ 37.15625 56 41.109375 55.140625 \r\nQ 45.0625 54.296875 48.78125 52.59375 \r\nz\r\n\" id=\"DejaVuSans-99\"/>\r\n       <path d=\"M 54.890625 33.015625 \r\nL 54.890625 0 \r\nL 45.90625 0 \r\nL 45.90625 32.71875 \r\nQ 45.90625 40.484375 42.875 44.328125 \r\nQ 39.84375 48.1875 33.796875 48.1875 \r\nQ 26.515625 48.1875 22.3125 43.546875 \r\nQ 18.109375 38.921875 18.109375 30.90625 \r\nL 18.109375 0 \r\nL 9.078125 0 \r\nL 9.078125 75.984375 \r\nL 18.109375 75.984375 \r\nL 18.109375 46.1875 \r\nQ 21.34375 51.125 25.703125 53.5625 \r\nQ 30.078125 56 35.796875 56 \r\nQ 45.21875 56 50.046875 50.171875 \r\nQ 54.890625 44.34375 54.890625 33.015625 \r\nz\r\n\" id=\"DejaVuSans-104\"/>\r\n       <path d=\"M 56.203125 29.59375 \r\nL 56.203125 25.203125 \r\nL 14.890625 25.203125 \r\nQ 15.484375 15.921875 20.484375 11.0625 \r\nQ 25.484375 6.203125 34.421875 6.203125 \r\nQ 39.59375 6.203125 44.453125 7.46875 \r\nQ 49.3125 8.734375 54.109375 11.28125 \r\nL 54.109375 2.78125 \r\nQ 49.265625 0.734375 44.1875 -0.34375 \r\nQ 39.109375 -1.421875 33.890625 -1.421875 \r\nQ 20.796875 -1.421875 13.15625 6.1875 \r\nQ 5.515625 13.8125 5.515625 26.8125 \r\nQ 5.515625 40.234375 12.765625 48.109375 \r\nQ 20.015625 56 32.328125 56 \r\nQ 43.359375 56 49.78125 48.890625 \r\nQ 56.203125 41.796875 56.203125 29.59375 \r\nz\r\nM 47.21875 32.234375 \r\nQ 47.125 39.59375 43.09375 43.984375 \r\nQ 39.0625 48.390625 32.421875 48.390625 \r\nQ 24.90625 48.390625 20.390625 44.140625 \r\nQ 15.875 39.890625 15.1875 32.171875 \r\nz\r\n\" id=\"DejaVuSans-101\"/>\r\n       <path d=\"M 44.28125 53.078125 \r\nL 44.28125 44.578125 \r\nQ 40.484375 46.53125 36.375 47.5 \r\nQ 32.28125 48.484375 27.875 48.484375 \r\nQ 21.1875 48.484375 17.84375 46.4375 \r\nQ 14.5 44.390625 14.5 40.28125 \r\nQ 14.5 37.15625 16.890625 35.375 \r\nQ 19.28125 33.59375 26.515625 31.984375 \r\nL 29.59375 31.296875 \r\nQ 39.15625 29.25 43.1875 25.515625 \r\nQ 47.21875 21.78125 47.21875 15.09375 \r\nQ 47.21875 7.46875 41.1875 3.015625 \r\nQ 35.15625 -1.421875 24.609375 -1.421875 \r\nQ 20.21875 -1.421875 15.453125 -0.5625 \r\nQ 10.6875 0.296875 5.421875 2 \r\nL 5.421875 11.28125 \r\nQ 10.40625 8.6875 15.234375 7.390625 \r\nQ 20.0625 6.109375 24.8125 6.109375 \r\nQ 31.15625 6.109375 34.5625 8.28125 \r\nQ 37.984375 10.453125 37.984375 14.40625 \r\nQ 37.984375 18.0625 35.515625 20.015625 \r\nQ 33.0625 21.96875 24.703125 23.78125 \r\nL 21.578125 24.515625 \r\nQ 13.234375 26.265625 9.515625 29.90625 \r\nQ 5.8125 33.546875 5.8125 39.890625 \r\nQ 5.8125 47.609375 11.28125 51.796875 \r\nQ 16.75 56 26.8125 56 \r\nQ 31.78125 56 36.171875 55.265625 \r\nQ 40.578125 54.546875 44.28125 53.078125 \r\nz\r\n\" id=\"DejaVuSans-115\"/>\r\n       <path d=\"M 25.390625 72.90625 \r\nL 33.6875 72.90625 \r\nL 8.296875 -9.28125 \r\nL 0 -9.28125 \r\nz\r\n\" id=\"DejaVuSans-47\"/>\r\n      </defs>\r\n      <use xlink:href=\"#DejaVuSans-66\"/>\r\n      <use x=\"68.603516\" xlink:href=\"#DejaVuSans-97\"/>\r\n      <use x=\"129.882812\" xlink:href=\"#DejaVuSans-116\"/>\r\n      <use x=\"169.091797\" xlink:href=\"#DejaVuSans-99\"/>\r\n      <use x=\"224.072266\" xlink:href=\"#DejaVuSans-104\"/>\r\n      <use x=\"287.451172\" xlink:href=\"#DejaVuSans-101\"/>\r\n      <use x=\"348.974609\" xlink:href=\"#DejaVuSans-115\"/>\r\n      <use x=\"401.074219\" xlink:href=\"#DejaVuSans-47\"/>\r\n      <use x=\"434.765625\" xlink:href=\"#DejaVuSans-49\"/>\r\n      <use x=\"498.388672\" xlink:href=\"#DejaVuSans-48\"/>\r\n     </g>\r\n    </g>\r\n   </g>\r\n   <g id=\"matplotlib.axis_2\">\r\n    <g id=\"ytick_1\">\r\n     <g id=\"line2d_10\">\r\n      <defs>\r\n       <path d=\"M 0 0 \r\nL -3.5 0 \r\n\" id=\"ma22a9a7730\" style=\"stroke:#000000;stroke-width:0.8;\"/>\r\n      </defs>\r\n      <g>\r\n       <use style=\"stroke:#000000;stroke-width:0.8;\" x=\"43.78125\" xlink:href=\"#ma22a9a7730\" y=\"217.452652\"/>\r\n      </g>\r\n     </g>\r\n     <g id=\"text_11\">\r\n      <!-- 0.4 -->\r\n      <g transform=\"translate(20.878125 221.251871)scale(0.1 -0.1)\">\r\n       <defs>\r\n        <path d=\"M 10.6875 12.40625 \r\nL 21 12.40625 \r\nL 21 0 \r\nL 10.6875 0 \r\nz\r\n\" id=\"DejaVuSans-46\"/>\r\n       </defs>\r\n       <use xlink:href=\"#DejaVuSans-48\"/>\r\n       <use x=\"63.623047\" xlink:href=\"#DejaVuSans-46\"/>\r\n       <use x=\"95.410156\" xlink:href=\"#DejaVuSans-52\"/>\r\n      </g>\r\n     </g>\r\n    </g>\r\n    <g id=\"ytick_2\">\r\n     <g id=\"line2d_11\">\r\n      <g>\r\n       <use style=\"stroke:#000000;stroke-width:0.8;\" x=\"43.78125\" xlink:href=\"#ma22a9a7730\" y=\"189.859397\"/>\r\n      </g>\r\n     </g>\r\n     <g id=\"text_12\">\r\n      <!-- 0.6 -->\r\n      <g transform=\"translate(20.878125 193.658616)scale(0.1 -0.1)\">\r\n       <use xlink:href=\"#DejaVuSans-48\"/>\r\n       <use x=\"63.623047\" xlink:href=\"#DejaVuSans-46\"/>\r\n       <use x=\"95.410156\" xlink:href=\"#DejaVuSans-54\"/>\r\n      </g>\r\n     </g>\r\n    </g>\r\n    <g id=\"ytick_3\">\r\n     <g id=\"line2d_12\">\r\n      <g>\r\n       <use style=\"stroke:#000000;stroke-width:0.8;\" x=\"43.78125\" xlink:href=\"#ma22a9a7730\" y=\"162.266142\"/>\r\n      </g>\r\n     </g>\r\n     <g id=\"text_13\">\r\n      <!-- 0.8 -->\r\n      <g transform=\"translate(20.878125 166.065361)scale(0.1 -0.1)\">\r\n       <use xlink:href=\"#DejaVuSans-48\"/>\r\n       <use x=\"63.623047\" xlink:href=\"#DejaVuSans-46\"/>\r\n       <use x=\"95.410156\" xlink:href=\"#DejaVuSans-56\"/>\r\n      </g>\r\n     </g>\r\n    </g>\r\n    <g id=\"ytick_4\">\r\n     <g id=\"line2d_13\">\r\n      <g>\r\n       <use style=\"stroke:#000000;stroke-width:0.8;\" x=\"43.78125\" xlink:href=\"#ma22a9a7730\" y=\"134.672888\"/>\r\n      </g>\r\n     </g>\r\n     <g id=\"text_14\">\r\n      <!-- 1.0 -->\r\n      <g transform=\"translate(20.878125 138.472106)scale(0.1 -0.1)\">\r\n       <use xlink:href=\"#DejaVuSans-49\"/>\r\n       <use x=\"63.623047\" xlink:href=\"#DejaVuSans-46\"/>\r\n       <use x=\"95.410156\" xlink:href=\"#DejaVuSans-48\"/>\r\n      </g>\r\n     </g>\r\n    </g>\r\n    <g id=\"ytick_5\">\r\n     <g id=\"line2d_14\">\r\n      <g>\r\n       <use style=\"stroke:#000000;stroke-width:0.8;\" x=\"43.78125\" xlink:href=\"#ma22a9a7730\" y=\"107.079633\"/>\r\n      </g>\r\n     </g>\r\n     <g id=\"text_15\">\r\n      <!-- 1.2 -->\r\n      <g transform=\"translate(20.878125 110.878852)scale(0.1 -0.1)\">\r\n       <use xlink:href=\"#DejaVuSans-49\"/>\r\n       <use x=\"63.623047\" xlink:href=\"#DejaVuSans-46\"/>\r\n       <use x=\"95.410156\" xlink:href=\"#DejaVuSans-50\"/>\r\n      </g>\r\n     </g>\r\n    </g>\r\n    <g id=\"ytick_6\">\r\n     <g id=\"line2d_15\">\r\n      <g>\r\n       <use style=\"stroke:#000000;stroke-width:0.8;\" x=\"43.78125\" xlink:href=\"#ma22a9a7730\" y=\"79.486378\"/>\r\n      </g>\r\n     </g>\r\n     <g id=\"text_16\">\r\n      <!-- 1.4 -->\r\n      <g transform=\"translate(20.878125 83.285597)scale(0.1 -0.1)\">\r\n       <use xlink:href=\"#DejaVuSans-49\"/>\r\n       <use x=\"63.623047\" xlink:href=\"#DejaVuSans-46\"/>\r\n       <use x=\"95.410156\" xlink:href=\"#DejaVuSans-52\"/>\r\n      </g>\r\n     </g>\r\n    </g>\r\n    <g id=\"ytick_7\">\r\n     <g id=\"line2d_16\">\r\n      <g>\r\n       <use style=\"stroke:#000000;stroke-width:0.8;\" x=\"43.78125\" xlink:href=\"#ma22a9a7730\" y=\"51.893123\"/>\r\n      </g>\r\n     </g>\r\n     <g id=\"text_17\">\r\n      <!-- 1.6 -->\r\n      <g transform=\"translate(20.878125 55.692342)scale(0.1 -0.1)\">\r\n       <use xlink:href=\"#DejaVuSans-49\"/>\r\n       <use x=\"63.623047\" xlink:href=\"#DejaVuSans-46\"/>\r\n       <use x=\"95.410156\" xlink:href=\"#DejaVuSans-54\"/>\r\n      </g>\r\n     </g>\r\n    </g>\r\n    <g id=\"ytick_8\">\r\n     <g id=\"line2d_17\">\r\n      <g>\r\n       <use style=\"stroke:#000000;stroke-width:0.8;\" x=\"43.78125\" xlink:href=\"#ma22a9a7730\" y=\"24.299868\"/>\r\n      </g>\r\n     </g>\r\n     <g id=\"text_18\">\r\n      <!-- 1.8 -->\r\n      <g transform=\"translate(20.878125 28.099087)scale(0.1 -0.1)\">\r\n       <use xlink:href=\"#DejaVuSans-49\"/>\r\n       <use x=\"63.623047\" xlink:href=\"#DejaVuSans-46\"/>\r\n       <use x=\"95.410156\" xlink:href=\"#DejaVuSans-56\"/>\r\n      </g>\r\n     </g>\r\n    </g>\r\n    <g id=\"text_19\">\r\n     <!-- Loss -->\r\n     <g transform=\"translate(14.798438 142.005312)rotate(-90)scale(0.1 -0.1)\">\r\n      <defs>\r\n       <path d=\"M 9.8125 72.90625 \r\nL 19.671875 72.90625 \r\nL 19.671875 8.296875 \r\nL 55.171875 8.296875 \r\nL 55.171875 0 \r\nL 9.8125 0 \r\nz\r\n\" id=\"DejaVuSans-76\"/>\r\n       <path d=\"M 30.609375 48.390625 \r\nQ 23.390625 48.390625 19.1875 42.75 \r\nQ 14.984375 37.109375 14.984375 27.296875 \r\nQ 14.984375 17.484375 19.15625 11.84375 \r\nQ 23.34375 6.203125 30.609375 6.203125 \r\nQ 37.796875 6.203125 41.984375 11.859375 \r\nQ 46.1875 17.53125 46.1875 27.296875 \r\nQ 46.1875 37.015625 41.984375 42.703125 \r\nQ 37.796875 48.390625 30.609375 48.390625 \r\nz\r\nM 30.609375 56 \r\nQ 42.328125 56 49.015625 48.375 \r\nQ 55.71875 40.765625 55.71875 27.296875 \r\nQ 55.71875 13.875 49.015625 6.21875 \r\nQ 42.328125 -1.421875 30.609375 -1.421875 \r\nQ 18.84375 -1.421875 12.171875 6.21875 \r\nQ 5.515625 13.875 5.515625 27.296875 \r\nQ 5.515625 40.765625 12.171875 48.375 \r\nQ 18.84375 56 30.609375 56 \r\nz\r\n\" id=\"DejaVuSans-111\"/>\r\n      </defs>\r\n      <use xlink:href=\"#DejaVuSans-76\"/>\r\n      <use x=\"53.962891\" xlink:href=\"#DejaVuSans-111\"/>\r\n      <use x=\"115.144531\" xlink:href=\"#DejaVuSans-115\"/>\r\n      <use x=\"167.244141\" xlink:href=\"#DejaVuSans-115\"/>\r\n     </g>\r\n    </g>\r\n   </g>\r\n   <g id=\"line2d_18\">\r\n    <path clip-path=\"url(#pe18c77c1cc)\" d=\"M 58.999432 32.201761 \r\nL 59.189778 75.625565 \r\nL 59.570471 99.872223 \r\nL 59.760817 99.423351 \r\nL 59.951163 94.128829 \r\nL 60.141509 97.260399 \r\nL 60.331855 97.116844 \r\nL 60.522202 103.695289 \r\nL 60.712548 102.974629 \r\nL 60.902894 106.521351 \r\nL 61.09324 113.28208 \r\nL 61.283587 109.726049 \r\nL 61.664279 108.761035 \r\nL 61.854625 109.212299 \r\nL 62.044972 113.95051 \r\nL 62.235318 111.223971 \r\nL 62.425664 112.07294 \r\nL 62.61601 117.072034 \r\nL 62.806357 114.120928 \r\nL 62.996703 114.519483 \r\nL 63.187049 115.712693 \r\nL 63.377395 111.55029 \r\nL 63.567742 117.725685 \r\nL 63.758088 114.238157 \r\nL 63.948434 115.601806 \r\nL 64.13878 118.697091 \r\nL 64.329127 116.58902 \r\nL 64.519473 116.893855 \r\nL 64.709819 118.802865 \r\nL 64.900165 115.610521 \r\nL 65.090511 120.662992 \r\nL 65.280858 116.78332 \r\nL 65.471204 118.301761 \r\nL 65.66155 122.125706 \r\nL 65.851896 119.797156 \r\nL 66.042243 119.051464 \r\nL 66.232589 120.42901 \r\nL 66.422935 119.032666 \r\nL 66.613281 120.902621 \r\nL 66.803628 114.515043 \r\nL 66.993974 115.315888 \r\nL 67.18432 118.433474 \r\nL 67.374666 114.00664 \r\nL 68.70709 136.705762 \r\nL 68.897436 136.494042 \r\nL 69.087782 134.732 \r\nL 69.468475 139.349446 \r\nL 69.658821 140.407484 \r\nL 69.849167 140.825184 \r\nL 70.039514 141.9113 \r\nL 70.22986 144.728674 \r\nL 70.420206 145.735214 \r\nL 70.610552 143.733676 \r\nL 70.800899 144.029 \r\nL 71.181591 147.199849 \r\nL 71.371937 147.695725 \r\nL 71.562284 146.967149 \r\nL 71.942976 151.720504 \r\nL 72.133322 148.915181 \r\nL 72.323669 148.904491 \r\nL 72.704361 152.472579 \r\nL 73.085054 151.477743 \r\nL 73.465746 155.474903 \r\nL 73.656092 152.147324 \r\nL 73.846438 152.276286 \r\nL 74.036785 154.350556 \r\nL 74.227131 154.810655 \r\nL 74.417477 154.632311 \r\nL 74.607823 154.23453 \r\nL 74.988516 158.2805 \r\nL 75.178862 154.517841 \r\nL 75.369208 154.099487 \r\nL 75.559555 157.868608 \r\nL 75.940247 157.632586 \r\nL 76.130593 156.591094 \r\nL 76.511286 160.870799 \r\nL 76.701632 156.063241 \r\nL 76.891978 155.492887 \r\nL 77.082325 159.587225 \r\nL 77.272671 159.756956 \r\nL 77.653363 158.894573 \r\nL 77.843709 159.930211 \r\nL 78.034056 162.275084 \r\nL 78.224402 156.210946 \r\nL 78.414748 156.310801 \r\nL 78.605094 158.987597 \r\nL 78.795441 159.760446 \r\nL 78.985787 158.018848 \r\nL 79.366479 157.994344 \r\nL 79.556826 160.482852 \r\nL 79.747172 156.878678 \r\nL 80.127864 160.295503 \r\nL 80.318211 162.088462 \r\nL 80.508557 160.38392 \r\nL 80.889249 161.925986 \r\nL 81.079596 164.406822 \r\nL 81.269942 158.412594 \r\nL 81.650634 162.427637 \r\nL 81.840981 163.782947 \r\nL 82.031327 162.125813 \r\nL 82.221673 162.674815 \r\nL 82.602365 165.965623 \r\nL 82.792712 160.536448 \r\nL 83.36375 165.106796 \r\nL 83.554097 163.762306 \r\nL 83.744443 163.847836 \r\nL 84.125135 166.977156 \r\nL 84.315482 161.020638 \r\nL 84.88652 166.324839 \r\nL 85.076867 164.784663 \r\nL 85.267213 164.861461 \r\nL 85.647905 168.639031 \r\nL 85.838252 162.817611 \r\nL 86.028598 163.495782 \r\nL 86.40929 167.477666 \r\nL 86.599636 165.837269 \r\nL 86.789983 165.860349 \r\nL 86.980329 168.539032 \r\nL 87.170675 169.525869 \r\nL 87.361021 163.588772 \r\nL 87.551368 164.455279 \r\nL 87.93206 168.380844 \r\nL 88.122406 166.935434 \r\nL 88.312753 167.058825 \r\nL 88.693445 170.56997 \r\nL 88.883791 164.20306 \r\nL 89.074138 165.229579 \r\nL 89.45483 169.060088 \r\nL 89.645176 167.806001 \r\nL 89.835523 167.635115 \r\nL 90.025869 170.187879 \r\nL 90.216215 171.11643 \r\nL 90.406561 165.088245 \r\nL 90.596908 166.414324 \r\nL 90.9776 170.295176 \r\nL 91.358292 168.536939 \r\nL 91.548639 170.959726 \r\nL 91.738985 171.8149 \r\nL 91.929331 165.304487 \r\nL 92.119677 166.528776 \r\nL 92.50037 170.729179 \r\nL 92.690716 169.419806 \r\nL 92.881062 169.095241 \r\nL 93.071409 171.514007 \r\nL 93.261755 172.232435 \r\nL 93.452101 165.764577 \r\nL 93.642447 167.174385 \r\nL 94.02314 171.927684 \r\nL 94.213486 170.460857 \r\nL 94.403832 169.990397 \r\nL 94.784525 172.789259 \r\nL 94.974871 166.468699 \r\nL 95.165217 168.023316 \r\nL 95.54591 172.669246 \r\nL 95.926602 170.436214 \r\nL 96.307295 173.574305 \r\nL 96.497641 167.635057 \r\nL 96.687987 169.241206 \r\nL 96.878333 172.62446 \r\nL 97.06868 173.105617 \r\nL 97.259026 171.803711 \r\nL 97.449372 171.471114 \r\nL 97.830065 174.028458 \r\nL 98.020411 167.964041 \r\nL 98.210757 169.82591 \r\nL 98.401103 173.449035 \r\nL 98.59145 173.731291 \r\nL 98.781796 172.28063 \r\nL 98.972142 172.007741 \r\nL 99.162488 173.743424 \r\nL 99.352835 174.319427 \r\nL 99.543181 168.794853 \r\nL 99.733527 170.637268 \r\nL 99.923873 174.447667 \r\nL 100.114219 174.685152 \r\nL 100.304566 173.177134 \r\nL 100.494912 172.700864 \r\nL 100.685258 174.586203 \r\nL 100.875604 174.796025 \r\nL 101.065951 169.671202 \r\nL 101.256297 171.442355 \r\nL 101.446643 175.612574 \r\nL 101.636989 175.328647 \r\nL 102.017682 173.163362 \r\nL 102.208028 175.433539 \r\nL 102.398374 175.414576 \r\nL 102.588721 170.482953 \r\nL 102.779067 172.465512 \r\nL 102.969413 176.423072 \r\nL 103.159759 176.415263 \r\nL 103.540452 173.443048 \r\nL 103.730798 175.860254 \r\nL 103.921144 176.001038 \r\nL 104.11149 171.253217 \r\nL 104.301837 172.53777 \r\nL 104.492183 177.903599 \r\nL 104.682529 177.426712 \r\nL 105.063222 174.422261 \r\nL 105.253568 176.627176 \r\nL 105.443914 176.47761 \r\nL 105.63426 172.079143 \r\nL 105.824607 173.568838 \r\nL 106.014953 178.596406 \r\nL 106.205299 178.150985 \r\nL 106.585992 175.188479 \r\nL 106.776338 177.23773 \r\nL 106.966684 176.577288 \r\nL 107.15703 172.548725 \r\nL 107.347377 173.728789 \r\nL 107.537723 179.482798 \r\nL 107.728069 178.846994 \r\nL 107.918415 176.681936 \r\nL 108.108762 175.885695 \r\nL 108.299108 178.258934 \r\nL 108.489454 177.363161 \r\nL 108.6798 172.941891 \r\nL 108.870146 174.342021 \r\nL 109.060493 180.177016 \r\nL 109.250839 179.458799 \r\nL 109.441185 177.119326 \r\nL 109.631531 176.15625 \r\nL 109.821878 178.845952 \r\nL 110.012224 178.161349 \r\nL 110.20257 173.744332 \r\nL 110.392916 174.706272 \r\nL 110.583263 180.772599 \r\nL 110.773609 180.21119 \r\nL 110.963955 177.893248 \r\nL 111.154301 177.027344 \r\nL 111.344648 179.387911 \r\nL 111.534994 178.679985 \r\nL 111.72534 174.131141 \r\nL 111.915686 175.018862 \r\nL 112.106033 181.536184 \r\nL 112.296379 181.203281 \r\nL 112.677071 177.020161 \r\nL 112.867417 179.277889 \r\nL 113.057764 178.876205 \r\nL 113.24811 174.998071 \r\nL 113.438456 175.523208 \r\nL 113.628802 182.047968 \r\nL 113.819149 181.403272 \r\nL 114.199841 177.676962 \r\nL 114.390187 179.933131 \r\nL 114.580534 179.632393 \r\nL 114.77088 175.754731 \r\nL 114.961226 175.945231 \r\nL 115.151572 182.428539 \r\nL 115.341919 182.19399 \r\nL 115.532265 179.329984 \r\nL 115.722611 178.230805 \r\nL 115.912957 180.496438 \r\nL 116.103304 180.469866 \r\nL 116.29365 176.362797 \r\nL 116.483996 176.321548 \r\nL 116.674342 182.842597 \r\nL 116.864689 182.819688 \r\nL 117.245381 178.905761 \r\nL 117.435727 181.134606 \r\nL 117.626073 181.147545 \r\nL 117.81642 177.069104 \r\nL 118.006766 176.706267 \r\nL 118.197112 183.261686 \r\nL 118.387458 183.230533 \r\nL 118.768151 179.502555 \r\nL 118.958497 181.943594 \r\nL 119.148843 181.850976 \r\nL 119.33919 177.765288 \r\nL 119.529536 177.482975 \r\nL 119.719882 184.382227 \r\nL 119.910228 184.165745 \r\nL 120.290921 180.095655 \r\nL 120.481267 182.779109 \r\nL 120.671613 182.905681 \r\nL 120.86196 178.536709 \r\nL 121.052306 178.314775 \r\nL 121.242652 185.94134 \r\nL 121.432998 185.14113 \r\nL 121.813691 180.238974 \r\nL 122.004037 183.068589 \r\nL 122.194383 183.203383 \r\nL 122.384729 179.209951 \r\nL 122.575076 178.367994 \r\nL 122.765422 185.68905 \r\nL 122.955768 185.496608 \r\nL 123.336461 180.778038 \r\nL 123.526807 183.854089 \r\nL 123.717153 183.821751 \r\nL 123.907499 179.823665 \r\nL 124.097846 179.060396 \r\nL 124.288192 186.347614 \r\nL 124.478538 186.098085 \r\nL 124.859231 181.093914 \r\nL 125.049577 184.036016 \r\nL 125.239923 184.167285 \r\nL 125.430269 180.351638 \r\nL 125.620616 179.089854 \r\nL 125.810962 186.48418 \r\nL 126.001308 186.478611 \r\nL 126.382 181.401773 \r\nL 126.572347 184.576827 \r\nL 126.762693 184.661263 \r\nL 126.953039 180.915499 \r\nL 127.143385 179.531433 \r\nL 127.333732 186.924295 \r\nL 127.524078 187.217779 \r\nL 127.90477 181.642075 \r\nL 128.095117 185.229908 \r\nL 128.285463 185.37926 \r\nL 128.475809 180.995177 \r\nL 128.666155 180.207 \r\nL 128.856502 187.911306 \r\nL 129.046848 187.81424 \r\nL 129.42754 182.112425 \r\nL 129.617887 185.901462 \r\nL 129.808233 186.151301 \r\nL 129.998579 181.664993 \r\nL 130.188925 180.550702 \r\nL 130.379271 188.439001 \r\nL 130.569618 188.129373 \r\nL 130.95031 182.533302 \r\nL 131.140656 186.526366 \r\nL 131.331003 186.933055 \r\nL 131.521349 182.132362 \r\nL 131.711695 181.067006 \r\nL 131.902041 189.453121 \r\nL 132.092388 188.863379 \r\nL 132.47308 183.08996 \r\nL 132.663426 187.164083 \r\nL 132.853773 187.566672 \r\nL 133.044119 182.554927 \r\nL 133.234465 181.653569 \r\nL 133.424811 190.479 \r\nL 133.615158 189.505623 \r\nL 133.99585 183.670289 \r\nL 134.186196 187.817934 \r\nL 134.376543 188.087074 \r\nL 134.566889 183.025985 \r\nL 134.757235 181.517227 \r\nL 134.947581 190.730181 \r\nL 135.137927 189.973737 \r\nL 135.51862 184.293505 \r\nL 135.708966 188.550057 \r\nL 135.899312 188.814201 \r\nL 136.089659 183.633802 \r\nL 136.280005 182.40349 \r\nL 136.470351 191.745509 \r\nL 136.660697 190.489865 \r\nL 137.04139 184.785912 \r\nL 137.231736 189.258455 \r\nL 137.422082 189.24221 \r\nL 137.612429 183.87811 \r\nL 137.802775 182.79328 \r\nL 137.993121 192.364442 \r\nL 138.183467 190.896469 \r\nL 138.56416 185.250502 \r\nL 138.754506 189.687544 \r\nL 138.944852 190.09963 \r\nL 139.135198 184.543196 \r\nL 139.325545 183.24348 \r\nL 139.515891 192.825018 \r\nL 139.896583 188.477424 \r\nL 140.08693 185.780501 \r\nL 140.277276 190.278726 \r\nL 140.467622 190.585409 \r\nL 140.657968 184.960324 \r\nL 140.848315 183.555574 \r\nL 141.038661 193.388543 \r\nL 141.419353 189.231574 \r\nL 141.6097 186.27494 \r\nL 141.800046 190.672676 \r\nL 141.990392 191.163195 \r\nL 142.180738 185.555971 \r\nL 142.371085 183.965012 \r\nL 142.561431 193.92877 \r\nL 142.942123 189.779199 \r\nL 143.13247 186.685081 \r\nL 143.322816 191.162772 \r\nL 143.513162 191.684229 \r\nL 143.703508 186.013179 \r\nL 143.893854 184.411074 \r\nL 144.084201 194.307725 \r\nL 144.464893 190.238993 \r\nL 144.655239 187.156253 \r\nL 144.845586 191.489182 \r\nL 145.035932 192.172461 \r\nL 145.226278 186.618649 \r\nL 145.416624 185.034938 \r\nL 145.606971 195.0169 \r\nL 146.178009 187.590181 \r\nL 146.368356 191.804294 \r\nL 146.558702 192.668472 \r\nL 146.749048 187.024571 \r\nL 146.939394 185.491118 \r\nL 147.129741 195.307592 \r\nL 147.700779 188.430409 \r\nL 147.891125 192.379408 \r\nL 148.081472 193.265429 \r\nL 148.271818 187.415386 \r\nL 148.462164 185.878209 \r\nL 148.65251 195.678331 \r\nL 149.223549 188.815287 \r\nL 149.413895 192.694842 \r\nL 149.604242 193.578314 \r\nL 149.794588 187.837611 \r\nL 149.984934 186.206725 \r\nL 150.17528 196.156706 \r\nL 150.746319 189.260857 \r\nL 150.936665 193.043159 \r\nL 151.127012 193.986533 \r\nL 151.317358 188.031167 \r\nL 151.507704 186.503798 \r\nL 151.69805 196.463435 \r\nL 152.269089 189.477962 \r\nL 152.459435 193.361293 \r\nL 152.649781 194.405314 \r\nL 152.840128 188.647057 \r\nL 153.030474 186.822495 \r\nL 153.22082 197.011013 \r\nL 153.791859 189.62915 \r\nL 153.982205 193.737992 \r\nL 154.172551 194.582152 \r\nL 154.362898 188.672674 \r\nL 154.553244 187.177692 \r\nL 154.74359 197.468121 \r\nL 155.314629 188.823576 \r\nL 155.504975 193.439271 \r\nL 155.695321 195.307786 \r\nL 155.885668 189.464253 \r\nL 156.076014 187.990809 \r\nL 156.26636 198.171579 \r\nL 156.837399 189.595626 \r\nL 157.027745 194.148893 \r\nL 157.218091 195.613262 \r\nL 157.408437 190.108622 \r\nL 157.598784 188.682999 \r\nL 157.78913 198.93526 \r\nL 158.360169 189.855644 \r\nL 158.550515 193.933144 \r\nL 158.740861 195.490005 \r\nL 158.931207 189.961264 \r\nL 159.121554 188.872995 \r\nL 159.3119 198.060764 \r\nL 159.502246 191.3029 \r\nL 159.692592 192.30041 \r\nL 159.882939 191.465368 \r\nL 160.073285 195.049088 \r\nL 160.263631 195.902878 \r\nL 160.453977 190.774399 \r\nL 160.644324 189.735976 \r\nL 160.83467 199.091007 \r\nL 161.215362 193.385847 \r\nL 161.405708 191.04503 \r\nL 161.596055 194.750076 \r\nL 161.786401 196.26155 \r\nL 161.976747 190.750725 \r\nL 162.167093 189.641631 \r\nL 162.35744 198.955586 \r\nL 162.547786 188.873299 \r\nL 162.738132 190.586501 \r\nL 162.928478 190.612179 \r\nL 163.118825 194.983061 \r\nL 163.309171 196.081046 \r\nL 163.689863 188.015994 \r\nL 163.88021 198.64138 \r\nL 164.260902 194.441433 \r\nL 164.451248 191.392353 \r\nL 164.641595 195.327678 \r\nL 164.831941 196.653177 \r\nL 165.022287 192.026838 \r\nL 165.212633 191.093503 \r\nL 165.402979 200.219935 \r\nL 165.974018 192.071898 \r\nL 166.354711 196.86395 \r\nL 166.545057 192.262955 \r\nL 166.735403 191.19395 \r\nL 166.925749 199.916225 \r\nL 167.116096 191.180087 \r\nL 167.306442 193.550897 \r\nL 167.496788 191.723376 \r\nL 167.687134 195.618436 \r\nL 167.877481 196.511487 \r\nL 168.067827 192.270797 \r\nL 168.258173 190.874948 \r\nL 168.448519 200.325351 \r\nL 168.638866 199.291079 \r\nL 169.019558 192.412812 \r\nL 169.209904 196.378941 \r\nL 169.400251 197.556208 \r\nL 169.590597 192.988992 \r\nL 169.780943 192.089177 \r\nL 169.971289 201.240529 \r\nL 170.542328 192.99625 \r\nL 170.732674 197.134175 \r\nL 170.92302 198.128626 \r\nL 171.113367 193.527933 \r\nL 171.303713 192.824193 \r\nL 171.494059 201.229265 \r\nL 172.065098 193.036606 \r\nL 172.255444 196.935434 \r\nL 172.44579 198.165648 \r\nL 172.636137 193.514664 \r\nL 172.826483 192.485879 \r\nL 173.016829 200.19011 \r\nL 173.207175 191.558099 \r\nL 173.587868 191.258183 \r\nL 173.96856 197.304042 \r\nL 174.158906 193.727 \r\nL 174.349253 192.282784 \r\nL 174.539599 201.093315 \r\nL 174.920291 197.067246 \r\nL 175.110638 194.012572 \r\nL 175.300984 198.24847 \r\nL 175.49133 198.933118 \r\nL 175.681676 194.859911 \r\nL 175.872023 193.300474 \r\nL 176.062369 201.727938 \r\nL 176.252715 200.717919 \r\nL 176.633408 194.95063 \r\nL 176.823754 198.690251 \r\nL 177.0141 199.447845 \r\nL 177.204446 195.331311 \r\nL 177.394793 193.804061 \r\nL 177.585139 202.53358 \r\nL 177.775485 195.418338 \r\nL 177.965831 196.975327 \r\nL 178.156178 194.528303 \r\nL 178.346524 198.826587 \r\nL 178.53687 199.557313 \r\nL 178.727216 195.115315 \r\nL 178.917562 193.922209 \r\nL 179.107909 202.357561 \r\nL 179.298255 201.106276 \r\nL 179.678947 194.799658 \r\nL 179.869294 198.955949 \r\nL 180.05964 199.957846 \r\nL 180.249986 195.717895 \r\nL 180.440332 194.368702 \r\nL 180.630679 202.830716 \r\nL 180.821025 201.681472 \r\nL 181.201717 195.595374 \r\nL 181.392064 199.933555 \r\nL 181.58241 200.396375 \r\nL 181.772756 196.393092 \r\nL 181.963102 194.825001 \r\nL 182.153449 203.492158 \r\nL 182.724487 195.987863 \r\nL 182.914833 200.605482 \r\nL 183.10518 200.928051 \r\nL 183.485872 195.350772 \r\nL 183.676218 203.690228 \r\nL 183.866565 202.356888 \r\nL 184.056911 200.132442 \r\nL 184.247257 196.468527 \r\nL 184.437603 200.862451 \r\nL 184.62795 200.993065 \r\nL 185.008642 195.416384 \r\nL 185.198988 203.708014 \r\nL 185.389335 198.220807 \r\nL 185.579681 198.382695 \r\nL 185.770027 196.525478 \r\nL 185.960373 201.033578 \r\nL 186.15072 201.232204 \r\nL 186.531412 195.677161 \r\nL 186.721758 204.439529 \r\nL 187.292797 196.77626 \r\nL 187.483143 201.503646 \r\nL 187.673489 201.341577 \r\nL 188.054182 195.827249 \r\nL 188.244528 204.7935 \r\nL 188.815567 196.713585 \r\nL 189.005913 201.613828 \r\nL 189.196259 201.238473 \r\nL 189.576952 196.225714 \r\nL 189.767298 205.049179 \r\nL 190.147991 200.900215 \r\nL 190.338337 196.9566 \r\nL 190.528683 202.039717 \r\nL 190.719029 202.049315 \r\nL 191.099722 196.0633 \r\nL 191.290068 205.088553 \r\nL 191.67076 201.364969 \r\nL 191.861107 197.630964 \r\nL 192.051453 202.361297 \r\nL 192.241799 202.232994 \r\nL 192.622492 196.904514 \r\nL 192.812838 205.96435 \r\nL 193.383877 197.722955 \r\nL 193.574223 202.908356 \r\nL 193.764569 202.244253 \r\nL 194.145262 196.894593 \r\nL 194.335608 206.124079 \r\nL 194.906647 197.731948 \r\nL 195.096993 203.133965 \r\nL 195.287339 202.616341 \r\nL 195.668032 196.840833 \r\nL 195.858378 206.243735 \r\nL 196.429416 197.500962 \r\nL 196.619763 202.991462 \r\nL 196.810109 202.76309 \r\nL 197.190801 197.095352 \r\nL 197.381148 206.410493 \r\nL 197.76184 202.888993 \r\nL 197.952186 198.732681 \r\nL 198.142533 203.935524 \r\nL 198.332879 203.37997 \r\nL 198.713571 197.635364 \r\nL 198.903918 205.396514 \r\nL 199.474956 197.990054 \r\nL 199.665303 203.473746 \r\nL 199.855649 203.292558 \r\nL 200.236341 197.781651 \r\nL 200.426687 206.816492 \r\nL 200.997726 199.505065 \r\nL 201.188072 204.398436 \r\nL 201.378419 203.546813 \r\nL 201.759111 197.99085 \r\nL 201.949457 207.437671 \r\nL 202.139804 204.45348 \r\nL 202.33015 203.283599 \r\nL 202.520496 199.23587 \r\nL 202.710842 204.332353 \r\nL 202.901189 203.878229 \r\nL 203.281881 198.436979 \r\nL 203.472227 205.959373 \r\nL 203.662574 202.159381 \r\nL 203.85292 202.826545 \r\nL 204.043266 199.049675 \r\nL 204.233612 203.914411 \r\nL 204.423959 203.297708 \r\nL 204.804651 197.63154 \r\nL 204.994997 206.907875 \r\nL 205.185343 204.48531 \r\nL 205.37569 203.925397 \r\nL 205.566036 199.499812 \r\nL 205.756382 205.007385 \r\nL 205.946728 204.333174 \r\nL 206.137075 202.104376 \r\nL 206.327421 198.055933 \r\nL 206.517767 207.83636 \r\nL 206.89846 204.803772 \r\nL 207.088806 200.489425 \r\nL 207.279152 205.084615 \r\nL 207.469498 204.862908 \r\nL 207.850191 198.454414 \r\nL 208.040537 208.708107 \r\nL 208.611576 200.693821 \r\nL 208.801922 205.719696 \r\nL 208.992268 204.881303 \r\nL 209.372961 199.094498 \r\nL 209.563307 208.720081 \r\nL 210.134346 200.930458 \r\nL 210.324692 205.894862 \r\nL 210.515038 204.903384 \r\nL 210.895731 199.24888 \r\nL 211.086077 208.945651 \r\nL 211.466769 205.874448 \r\nL 211.657116 201.7499 \r\nL 211.847462 206.527323 \r\nL 212.037808 205.548877 \r\nL 212.228154 203.016098 \r\nL 212.418501 198.731858 \r\nL 212.608847 208.611805 \r\nL 212.799193 205.344866 \r\nL 212.989539 205.124893 \r\nL 213.179886 201.804037 \r\nL 213.370232 205.874717 \r\nL 213.560578 204.667744 \r\nL 213.94127 198.95358 \r\nL 214.131617 207.970215 \r\nL 214.321963 205.349759 \r\nL 214.512309 205.079176 \r\nL 214.702655 200.875633 \r\nL 214.893002 205.746148 \r\nL 215.083348 205.093668 \r\nL 215.273694 202.561517 \r\nL 215.46404 198.429268 \r\nL 215.654387 207.785995 \r\nL 215.844733 205.601916 \r\nL 216.035079 205.385932 \r\nL 216.225425 201.414528 \r\nL 216.415772 205.806285 \r\nL 216.606118 204.554307 \r\nL 216.98681 198.270583 \r\nL 217.177157 208.505245 \r\nL 217.367503 206.798038 \r\nL 217.557849 206.168779 \r\nL 217.748195 202.515327 \r\nL 217.938541 207.696886 \r\nL 218.128888 206.111838 \r\nL 218.50958 199.629456 \r\nL 218.699926 209.861634 \r\nL 218.890273 206.658013 \r\nL 219.080619 206.576836 \r\nL 219.270965 203.290367 \r\nL 219.461311 207.077819 \r\nL 219.651658 206.031732 \r\nL 220.03235 198.857772 \r\nL 220.222696 209.613063 \r\nL 220.413043 198.614457 \r\nL 220.603389 201.424199 \r\nL 220.793735 201.475004 \r\nL 220.984081 206.320662 \r\nL 221.174428 205.738289 \r\nL 221.364774 202.894847 \r\nL 221.55512 198.207431 \r\nL 221.745466 209.267038 \r\nL 221.935813 205.716382 \r\nL 222.126159 206.144404 \r\nL 222.316505 203.252149 \r\nL 222.506851 207.205664 \r\nL 222.697197 206.030566 \r\nL 223.07789 199.445662 \r\nL 223.268236 210.165174 \r\nL 223.458582 208.379491 \r\nL 223.648929 207.995025 \r\nL 223.839275 204.550393 \r\nL 224.029621 208.355753 \r\nL 224.219967 207.333476 \r\nL 224.60066 199.733808 \r\nL 224.791006 210.624215 \r\nL 224.981352 208.550369 \r\nL 225.171699 208.213606 \r\nL 225.362045 204.741799 \r\nL 225.552391 208.70058 \r\nL 225.742737 207.513896 \r\nL 226.12343 200.269379 \r\nL 226.313776 210.990928 \r\nL 226.504122 209.232254 \r\nL 226.694468 209.149491 \r\nL 226.884815 204.930037 \r\nL 227.075161 209.138297 \r\nL 227.265507 208.045316 \r\nL 227.6462 200.586825 \r\nL 227.836546 211.125747 \r\nL 228.026892 209.183558 \r\nL 228.217238 209.507595 \r\nL 228.407585 205.787818 \r\nL 228.597931 209.995948 \r\nL 228.788277 208.767348 \r\nL 229.16897 200.887043 \r\nL 229.359316 210.398886 \r\nL 229.740008 209.007864 \r\nL 229.930355 205.462348 \r\nL 230.120701 209.60851 \r\nL 230.311047 208.240414 \r\nL 230.69174 201.222672 \r\nL 230.882086 211.612755 \r\nL 231.072432 210.348638 \r\nL 231.262778 209.970299 \r\nL 231.453124 205.919117 \r\nL 231.643471 210.051779 \r\nL 231.833817 209.030791 \r\nL 232.214509 201.577937 \r\nL 232.404856 211.611143 \r\nL 232.595202 210.435851 \r\nL 232.785548 210.125854 \r\nL 232.975894 205.841328 \r\nL 233.166241 210.385253 \r\nL 233.546933 205.484803 \r\nL 233.737279 201.725189 \r\nL 233.927626 211.880413 \r\nL 234.117972 209.812178 \r\nL 234.308318 210.087117 \r\nL 234.498664 205.738136 \r\nL 234.689011 210.398961 \r\nL 235.069703 206.077543 \r\nL 235.260049 201.136198 \r\nL 235.450395 212.369536 \r\nL 235.640742 210.992005 \r\nL 235.831088 210.752973 \r\nL 236.021434 206.56361 \r\nL 236.21178 210.896291 \r\nL 236.402127 209.312236 \r\nL 236.782819 202.417671 \r\nL 236.973165 213.097666 \r\nL 237.163512 211.324614 \r\nL 237.353858 211.15883 \r\nL 237.544204 206.936208 \r\nL 237.73455 211.456274 \r\nL 238.115243 206.357855 \r\nL 238.305589 202.805118 \r\nL 238.495935 213.506464 \r\nL 238.686282 211.308511 \r\nL 238.876628 211.111682 \r\nL 239.066974 207.117372 \r\nL 239.25732 211.769433 \r\nL 239.638013 206.377088 \r\nL 239.828359 203.351714 \r\nL 240.018705 213.613777 \r\nL 240.209051 211.02194 \r\nL 240.399398 211.492084 \r\nL 240.589744 207.267109 \r\nL 240.78009 211.859814 \r\nL 240.970436 209.971502 \r\nL 241.351129 203.10261 \r\nL 241.541475 214.18667 \r\nL 241.731821 211.838384 \r\nL 241.922168 211.781697 \r\nL 242.112514 207.552001 \r\nL 242.30286 212.16675 \r\nL 242.683553 206.939908 \r\nL 242.873899 203.574399 \r\nL 243.064245 214.273338 \r\nL 243.254591 212.070359 \r\nL 243.444938 211.949968 \r\nL 243.635284 207.881945 \r\nL 243.82563 212.61464 \r\nL 244.206322 207.221997 \r\nL 244.396669 203.969984 \r\nL 244.587015 212.576542 \r\nL 244.777361 209.655518 \r\nL 244.967707 211.322495 \r\nL 245.158054 207.711349 \r\nL 245.3484 212.416372 \r\nL 245.538746 211.250211 \r\nL 245.919439 203.107415 \r\nL 246.109785 211.990122 \r\nL 246.300131 208.127372 \r\nL 246.490477 210.113365 \r\nL 246.680824 206.835093 \r\nL 246.87117 212.671052 \r\nL 247.061516 211.60102 \r\nL 247.442209 203.854812 \r\nL 247.632555 213.637433 \r\nL 247.822901 211.759936 \r\nL 248.013247 212.461298 \r\nL 248.203594 208.766057 \r\nL 248.39394 213.762995 \r\nL 248.774632 207.94867 \r\nL 248.964978 204.042956 \r\nL 249.155325 214.80204 \r\nL 249.345671 212.76422 \r\nL 249.536017 212.622849 \r\nL 249.726363 208.684176 \r\nL 249.91671 213.839555 \r\nL 250.297402 208.153622 \r\nL 250.487748 204.651094 \r\nL 250.678095 215.336081 \r\nL 250.868441 213.183297 \r\nL 251.058787 212.982281 \r\nL 251.249133 208.905844 \r\nL 251.43948 213.804775 \r\nL 251.629826 211.841876 \r\nL 252.010518 204.349978 \r\nL 252.200865 213.677029 \r\nL 252.391211 211.697618 \r\nL 252.581557 212.366472 \r\nL 252.771903 208.662157 \r\nL 252.962249 214.460045 \r\nL 253.152596 212.918149 \r\nL 253.533288 205.17026 \r\nL 253.723634 216.347147 \r\nL 253.913981 213.894205 \r\nL 254.104327 213.107956 \r\nL 254.294673 209.188673 \r\nL 254.485019 214.623454 \r\nL 254.675366 212.983151 \r\nL 255.056058 205.287407 \r\nL 255.246404 215.880416 \r\nL 255.436751 213.704099 \r\nL 255.627097 213.637111 \r\nL 255.817443 209.863712 \r\nL 256.007789 215.038456 \r\nL 256.198136 213.556839 \r\nL 256.578828 205.25074 \r\nL 256.769174 216.271389 \r\nL 256.959521 214.212528 \r\nL 257.149867 214.26676 \r\nL 257.340213 209.672471 \r\nL 257.530559 215.323476 \r\nL 257.720905 213.918711 \r\nL 258.101598 205.98477 \r\nL 258.291944 216.863618 \r\nL 258.48229 214.277211 \r\nL 258.672637 214.162498 \r\nL 258.862983 210.022167 \r\nL 259.053329 215.499972 \r\nL 259.243675 213.395446 \r\nL 259.624368 205.948113 \r\nL 259.814714 217.084927 \r\nL 260.00506 214.562938 \r\nL 260.195407 214.074064 \r\nL 260.385753 209.957892 \r\nL 260.576099 216.141054 \r\nL 260.766445 214.223843 \r\nL 261.147138 205.988314 \r\nL 261.337484 216.939716 \r\nL 261.52783 214.661117 \r\nL 261.718176 213.926542 \r\nL 261.908523 210.407465 \r\nL 262.098869 215.91701 \r\nL 262.289215 214.683543 \r\nL 262.669908 206.771714 \r\nL 262.860254 217.42128 \r\nL 263.0506 214.624526 \r\nL 263.240946 214.7628 \r\nL 263.431293 210.757626 \r\nL 263.621639 216.557732 \r\nL 263.811985 215.288759 \r\nL 264.192678 206.300525 \r\nL 264.383024 217.460035 \r\nL 264.57337 215.212731 \r\nL 264.763716 214.790584 \r\nL 264.954063 211.162247 \r\nL 265.144409 216.704534 \r\nL 265.334755 215.244519 \r\nL 265.715448 207.294144 \r\nL 265.905794 217.948394 \r\nL 266.09614 215.342547 \r\nL 266.286486 214.779159 \r\nL 266.476832 211.360087 \r\nL 266.667179 216.903517 \r\nL 266.857525 215.601886 \r\nL 267.238217 207.105737 \r\nL 267.428564 218.117778 \r\nL 267.61891 215.730227 \r\nL 267.809256 215.05626 \r\nL 267.999602 211.274861 \r\nL 268.189949 217.06057 \r\nL 268.380295 215.89931 \r\nL 268.760987 207.286868 \r\nL 268.951334 218.47421 \r\nL 269.14168 215.973416 \r\nL 269.332026 215.553189 \r\nL 269.522372 211.585506 \r\nL 269.712719 217.497673 \r\nL 269.903065 216.362444 \r\nL 270.283757 207.591141 \r\nL 270.474103 218.508535 \r\nL 270.66445 216.080311 \r\nL 270.854796 215.554743 \r\nL 271.045142 211.973193 \r\nL 271.235488 217.578945 \r\nL 271.425835 216.417066 \r\nL 271.806527 207.836169 \r\nL 271.996873 218.705811 \r\nL 272.18722 216.140557 \r\nL 272.377566 215.669966 \r\nL 272.567912 212.175233 \r\nL 272.758258 217.59037 \r\nL 272.948605 216.25971 \r\nL 273.329297 207.867567 \r\nL 273.519643 219.319896 \r\nL 273.70999 216.438704 \r\nL 273.900336 215.951656 \r\nL 274.090682 212.324417 \r\nL 274.281028 217.946882 \r\nL 274.471375 217.078019 \r\nL 274.852067 208.057531 \r\nL 275.042413 219.580858 \r\nL 275.232759 216.327572 \r\nL 275.423106 215.449754 \r\nL 275.613452 212.671758 \r\nL 275.803798 218.539419 \r\nL 275.994144 217.232666 \r\nL 276.374837 208.297075 \r\nL 276.565183 219.39681 \r\nL 276.755529 216.412152 \r\nL 276.945876 215.818702 \r\nL 277.136222 212.883934 \r\nL 277.326568 218.402067 \r\nL 277.516914 216.922696 \r\nL 277.897607 208.483129 \r\nL 278.087953 217.897748 \r\nL 278.278299 215.914816 \r\nL 278.468646 215.681213 \r\nL 278.658992 212.844664 \r\nL 278.849338 218.090906 \r\nL 279.039684 217.023768 \r\nL 279.23003 211.354729 \r\nL 279.420377 209.653856 \r\nL 279.610723 220.491408 \r\nL 279.801069 216.939566 \r\nL 279.991415 216.76466 \r\nL 280.181762 213.135293 \r\nL 280.372108 219.090388 \r\nL 280.562454 218.207959 \r\nL 280.943147 209.159054 \r\nL 281.133493 220.056683 \r\nL 281.323839 216.887186 \r\nL 281.514185 216.665248 \r\nL 281.704532 213.547127 \r\nL 281.894878 218.897044 \r\nL 282.085224 217.93039 \r\nL 282.465917 209.527633 \r\nL 282.656263 220.770464 \r\nL 282.846609 217.371774 \r\nL 283.036955 216.63611 \r\nL 283.227302 213.661594 \r\nL 283.417648 218.830446 \r\nL 283.607994 217.30306 \r\nL 283.79834 212.00353 \r\nL 283.988686 209.957249 \r\nL 284.179033 221.145464 \r\nL 284.369379 217.739255 \r\nL 284.559725 217.215431 \r\nL 284.750071 213.907603 \r\nL 284.940418 219.40667 \r\nL 285.130764 218.21872 \r\nL 285.511456 210.031462 \r\nL 285.701803 220.226769 \r\nL 285.892149 216.009474 \r\nL 286.082495 215.752953 \r\nL 286.272841 213.798536 \r\nL 286.463188 218.895385 \r\nL 286.653534 218.52767 \r\nL 287.034226 209.734795 \r\nL 287.224573 220.985872 \r\nL 287.414919 218.311087 \r\nL 287.605265 217.469101 \r\nL 287.795611 213.735917 \r\nL 287.985957 219.63119 \r\nL 288.176304 218.476242 \r\nL 288.556996 208.57932 \r\nL 288.747342 219.648308 \r\nL 288.937689 216.272301 \r\nL 289.128035 216.737465 \r\nL 289.318381 214.216393 \r\nL 289.508727 219.112253 \r\nL 289.699074 217.8728 \r\nL 290.079766 210.071682 \r\nL 290.270112 220.577784 \r\nL 290.460459 217.73814 \r\nL 290.650805 216.575393 \r\nL 290.841151 214.379766 \r\nL 291.031497 219.926324 \r\nL 291.221844 218.990045 \r\nL 291.41219 212.970342 \r\nL 291.602536 210.947559 \r\nL 291.792882 221.447118 \r\nL 291.983229 218.833612 \r\nL 292.173575 217.877699 \r\nL 292.363921 214.887711 \r\nL 292.554267 220.563199 \r\nL 292.744613 219.017101 \r\nL 293.125306 208.682403 \r\nL 293.315652 219.900568 \r\nL 293.505998 212.519409 \r\nL 293.696345 216.942051 \r\nL 293.886691 214.64255 \r\nL 294.077037 219.401097 \r\nL 294.267383 219.12745 \r\nL 294.648076 211.539427 \r\nL 294.838422 221.911918 \r\nL 295.028768 218.819923 \r\nL 295.219115 218.40093 \r\nL 295.409461 215.443713 \r\nL 295.599807 220.780053 \r\nL 295.790153 219.58919 \r\nL 295.9805 213.929902 \r\nL 296.170846 212.0294 \r\nL 296.361192 219.61627 \r\nL 296.741884 218.02763 \r\nL 296.932231 215.026209 \r\nL 297.122577 220.740591 \r\nL 297.312923 219.718425 \r\nL 297.693616 211.374608 \r\nL 297.883962 222.434471 \r\nL 298.074308 219.279518 \r\nL 298.264654 218.55798 \r\nL 298.455001 215.593995 \r\nL 298.645347 220.946256 \r\nL 298.835693 220.214988 \r\nL 299.216386 211.684788 \r\nL 299.406732 222.016216 \r\nL 299.597078 218.922956 \r\nL 299.787424 217.99473 \r\nL 299.977771 215.589129 \r\nL 300.168117 220.85442 \r\nL 300.358463 220.376461 \r\nL 300.548809 214.882309 \r\nL 300.739156 212.674891 \r\nL 300.929502 222.157699 \r\nL 301.119848 219.037829 \r\nL 301.310194 218.564951 \r\nL 301.50054 216.052695 \r\nL 301.690887 221.046353 \r\nL 301.881233 220.097476 \r\nL 302.261925 212.114525 \r\nL 302.452272 222.030414 \r\nL 302.642618 218.888619 \r\nL 302.832964 218.646772 \r\nL 303.02331 216.018063 \r\nL 303.213657 221.266177 \r\nL 303.404003 220.856853 \r\nL 303.784695 212.74192 \r\nL 303.975042 222.006082 \r\nL 304.165388 219.187523 \r\nL 304.355734 218.983297 \r\nL 304.54608 216.305486 \r\nL 304.736427 221.717137 \r\nL 304.926773 221.04518 \r\nL 305.307465 212.693514 \r\nL 305.497811 222.276579 \r\nL 305.688158 219.489598 \r\nL 305.878504 218.71251 \r\nL 306.06885 216.579812 \r\nL 306.259196 221.851521 \r\nL 306.449543 221.499708 \r\nL 306.830235 213.379194 \r\nL 307.020581 223.167865 \r\nL 307.210928 219.503416 \r\nL 307.401274 219.179463 \r\nL 307.59162 216.552012 \r\nL 307.781966 222.065843 \r\nL 307.972313 220.615872 \r\nL 308.353005 211.477992 \r\nL 308.543351 220.983061 \r\nL 308.733698 216.767804 \r\nL 308.924044 218.683778 \r\nL 309.11439 216.519226 \r\nL 309.304736 220.473168 \r\nL 309.495083 219.757824 \r\nL 309.685429 214.843131 \r\nL 309.875775 212.802406 \r\nL 310.066121 220.942378 \r\nL 310.256467 219.294919 \r\nL 310.446814 219.168141 \r\nL 310.63716 217.088969 \r\nL 310.827506 222.417132 \r\nL 311.017852 221.089317 \r\nL 311.208199 216.060741 \r\nL 311.398545 214.274283 \r\nL 311.588891 223.45788 \r\nL 312.15993 216.992359 \r\nL 312.350276 222.794352 \r\nL 312.540622 221.834921 \r\nL 312.730969 216.137689 \r\nL 312.921315 214.976276 \r\nL 313.111661 223.422848 \r\nL 313.302007 221.068042 \r\nL 313.492354 220.374628 \r\nL 313.6827 217.424533 \r\nL 313.873046 222.835211 \r\nL 314.063392 222.412316 \r\nL 314.444085 215.150442 \r\nL 314.634431 224.066226 \r\nL 315.20547 217.481746 \r\nL 315.395816 223.163506 \r\nL 315.586162 222.260359 \r\nL 315.776508 217.10072 \r\nL 315.966855 215.381008 \r\nL 316.157201 223.722529 \r\nL 316.347547 221.297478 \r\nL 316.537893 220.525701 \r\nL 316.72824 217.799764 \r\nL 316.918586 223.177017 \r\nL 317.108932 222.621404 \r\nL 317.299278 218.027646 \r\nL 317.489625 216.139759 \r\nL 317.679971 224.651397 \r\nL 318.060663 220.463531 \r\nL 318.25101 217.765076 \r\nL 318.441356 223.206698 \r\nL 318.631702 222.714183 \r\nL 318.822048 218.209315 \r\nL 319.012394 216.351863 \r\nL 319.202741 225.007822 \r\nL 319.773779 217.681781 \r\nL 319.964126 223.742904 \r\nL 320.154472 222.88751 \r\nL 320.344818 218.270751 \r\nL 320.535164 216.754751 \r\nL 320.725511 224.917284 \r\nL 320.915857 222.286962 \r\nL 321.106203 221.315328 \r\nL 321.296549 218.263178 \r\nL 321.486896 223.892371 \r\nL 321.677242 222.514075 \r\nL 322.057934 216.437124 \r\nL 322.248281 225.512214 \r\nL 322.819319 218.300977 \r\nL 323.009665 224.212868 \r\nL 323.200012 222.409369 \r\nL 323.580704 216.676841 \r\nL 323.77105 223.821623 \r\nL 324.151743 219.07113 \r\nL 324.342089 217.351848 \r\nL 324.532435 222.065196 \r\nL 324.722782 221.533811 \r\nL 325.103474 215.879372 \r\nL 325.29382 224.976701 \r\nL 325.864859 217.680739 \r\nL 326.055205 224.254758 \r\nL 326.245552 222.326252 \r\nL 326.626244 217.02387 \r\nL 326.81659 225.230024 \r\nL 327.006937 218.219891 \r\nL 327.197283 216.758731 \r\nL 327.387629 216.176443 \r\nL 327.577975 221.579516 \r\nL 327.768321 221.27821 \r\nL 328.149014 214.585715 \r\nL 328.33936 223.542132 \r\nL 328.910399 217.890085 \r\nL 329.100745 223.640217 \r\nL 329.291091 222.695973 \r\nL 329.481438 218.02655 \r\nL 329.671784 217.068734 \r\nL 329.86213 225.362608 \r\nL 330.433169 217.154924 \r\nL 330.623515 224.073438 \r\nL 330.813861 222.830035 \r\nL 331.194554 217.406731 \r\nL 331.3849 226.671884 \r\nL 331.955939 218.447659 \r\nL 332.146285 224.791462 \r\nL 332.336631 223.270841 \r\nL 332.717324 217.708151 \r\nL 332.90767 226.903814 \r\nL 333.478709 218.544142 \r\nL 333.669055 224.820571 \r\nL 333.859401 223.636459 \r\nL 334.240094 218.156706 \r\nL 334.43044 226.372318 \r\nL 335.001479 218.593984 \r\nL 335.191825 224.748524 \r\nL 335.382171 223.829455 \r\nL 335.762864 218.218331 \r\nL 335.95321 225.541084 \r\nL 336.333902 220.071242 \r\nL 336.524248 218.442547 \r\nL 336.714595 223.667225 \r\nL 336.904941 222.144461 \r\nL 337.285633 216.162558 \r\nL 337.47598 225.931151 \r\nL 337.856672 221.715499 \r\nL 338.047018 218.238031 \r\nL 338.237365 224.732358 \r\nL 338.427711 223.365235 \r\nL 338.808403 217.321072 \r\nL 338.99875 226.075026 \r\nL 339.189096 224.279921 \r\nL 339.569788 219.111127 \r\nL 339.760135 225.071137 \r\nL 339.950481 224.305097 \r\nL 340.331173 218.949166 \r\nL 340.521519 227.26916 \r\nL 341.092558 219.840625 \r\nL 341.282904 225.428417 \r\nL 341.663597 221.787781 \r\nL 341.853943 219.386959 \r\nL 342.044289 227.963651 \r\nL 342.615328 219.40399 \r\nL 342.805674 225.543536 \r\nL 342.996021 224.194237 \r\nL 343.376713 219.326313 \r\nL 343.567059 227.124135 \r\nL 343.757406 225.18411 \r\nL 344.138098 219.375761 \r\nL 344.328444 225.754863 \r\nL 344.709137 222.044443 \r\nL 344.899483 219.196155 \r\nL 345.089829 227.327785 \r\nL 345.280175 225.81641 \r\nL 345.660868 220.068369 \r\nL 345.851214 225.640624 \r\nL 346.04156 224.509538 \r\nL 346.422253 219.353108 \r\nL 346.612599 228.076814 \r\nL 347.183638 220.349076 \r\nL 347.373984 226.560528 \r\nL 347.56433 225.290982 \r\nL 347.945023 219.838438 \r\nL 348.135369 227.826773 \r\nL 348.325715 226.21541 \r\nL 348.706408 220.797482 \r\nL 348.896754 225.976467 \r\nL 349.277446 222.248507 \r\nL 349.467793 220.076797 \r\nL 349.658139 227.721345 \r\nL 350.229178 220.604878 \r\nL 350.419524 226.126057 \r\nL 350.800216 222.719755 \r\nL 350.990563 219.514451 \r\nL 351.180909 228.623219 \r\nL 351.751948 220.736688 \r\nL 351.942294 226.281207 \r\nL 352.322986 222.757319 \r\nL 352.513333 220.341341 \r\nL 352.703679 228.599932 \r\nL 353.274718 220.242608 \r\nL 353.465064 226.673708 \r\nL 353.845756 223.233491 \r\nL 354.036102 220.153201 \r\nL 354.226449 228.788801 \r\nL 354.416795 226.638382 \r\nL 354.797487 220.941123 \r\nL 354.987834 226.031146 \r\nL 355.17818 224.88052 \r\nL 355.368526 223.007704 \r\nL 355.558872 218.385779 \r\nL 355.749219 228.376534 \r\nL 355.939565 216.572611 \r\nL 356.320257 218.282667 \r\nL 356.510604 224.811595 \r\nL 356.70095 224.405099 \r\nL 356.891296 222.528922 \r\nL 357.081642 218.737583 \r\nL 357.271989 228.937776 \r\nL 357.843027 221.059676 \r\nL 358.033373 225.919608 \r\nL 358.22372 225.363766 \r\nL 358.414066 224.091137 \r\nL 358.604412 219.439849 \r\nL 358.794758 228.612588 \r\nL 359.365797 221.820786 \r\nL 359.556143 227.398171 \r\nL 359.74649 226.195372 \r\nL 360.127182 220.558171 \r\nL 360.317528 229.565525 \r\nL 360.507875 227.440567 \r\nL 360.888567 221.314041 \r\nL 361.078913 227.474 \r\nL 361.26926 226.506925 \r\nL 361.649952 221.166844 \r\nL 361.840298 229.366558 \r\nL 362.030645 227.492765 \r\nL 362.411337 221.913549 \r\nL 362.601683 227.492707 \r\nL 362.982376 224.506591 \r\nL 363.172722 221.375134 \r\nL 363.363068 229.874489 \r\nL 363.363068 229.874489 \r\n\" style=\"fill:none;stroke:#1f77b4;stroke-linecap:square;stroke-width:1.5;\"/>\r\n   </g>\r\n   <g id=\"patch_3\">\r\n    <path d=\"M 43.78125 239.758125 \r\nL 43.78125 22.318125 \r\n\" style=\"fill:none;stroke:#000000;stroke-linecap:square;stroke-linejoin:miter;stroke-width:0.8;\"/>\r\n   </g>\r\n   <g id=\"patch_4\">\r\n    <path d=\"M 378.58125 239.758125 \r\nL 378.58125 22.318125 \r\n\" style=\"fill:none;stroke:#000000;stroke-linecap:square;stroke-linejoin:miter;stroke-width:0.8;\"/>\r\n   </g>\r\n   <g id=\"patch_5\">\r\n    <path d=\"M 43.78125 239.758125 \r\nL 378.58125 239.758125 \r\n\" style=\"fill:none;stroke:#000000;stroke-linecap:square;stroke-linejoin:miter;stroke-width:0.8;\"/>\r\n   </g>\r\n   <g id=\"patch_6\">\r\n    <path d=\"M 43.78125 22.318125 \r\nL 378.58125 22.318125 \r\n\" style=\"fill:none;stroke:#000000;stroke-linecap:square;stroke-linejoin:miter;stroke-width:0.8;\"/>\r\n   </g>\r\n   <g id=\"text_20\">\r\n    <!-- Training loss -->\r\n    <g transform=\"translate(174.014063 16.318125)scale(0.12 -0.12)\">\r\n     <defs>\r\n      <path d=\"M -0.296875 72.90625 \r\nL 61.375 72.90625 \r\nL 61.375 64.59375 \r\nL 35.5 64.59375 \r\nL 35.5 0 \r\nL 25.59375 0 \r\nL 25.59375 64.59375 \r\nL -0.296875 64.59375 \r\nz\r\n\" id=\"DejaVuSans-84\"/>\r\n      <path d=\"M 41.109375 46.296875 \r\nQ 39.59375 47.171875 37.8125 47.578125 \r\nQ 36.03125 48 33.890625 48 \r\nQ 26.265625 48 22.1875 43.046875 \r\nQ 18.109375 38.09375 18.109375 28.8125 \r\nL 18.109375 0 \r\nL 9.078125 0 \r\nL 9.078125 54.6875 \r\nL 18.109375 54.6875 \r\nL 18.109375 46.1875 \r\nQ 20.953125 51.171875 25.484375 53.578125 \r\nQ 30.03125 56 36.53125 56 \r\nQ 37.453125 56 38.578125 55.875 \r\nQ 39.703125 55.765625 41.0625 55.515625 \r\nz\r\n\" id=\"DejaVuSans-114\"/>\r\n      <path d=\"M 9.421875 54.6875 \r\nL 18.40625 54.6875 \r\nL 18.40625 0 \r\nL 9.421875 0 \r\nz\r\nM 9.421875 75.984375 \r\nL 18.40625 75.984375 \r\nL 18.40625 64.59375 \r\nL 9.421875 64.59375 \r\nz\r\n\" id=\"DejaVuSans-105\"/>\r\n      <path d=\"M 54.890625 33.015625 \r\nL 54.890625 0 \r\nL 45.90625 0 \r\nL 45.90625 32.71875 \r\nQ 45.90625 40.484375 42.875 44.328125 \r\nQ 39.84375 48.1875 33.796875 48.1875 \r\nQ 26.515625 48.1875 22.3125 43.546875 \r\nQ 18.109375 38.921875 18.109375 30.90625 \r\nL 18.109375 0 \r\nL 9.078125 0 \r\nL 9.078125 54.6875 \r\nL 18.109375 54.6875 \r\nL 18.109375 46.1875 \r\nQ 21.34375 51.125 25.703125 53.5625 \r\nQ 30.078125 56 35.796875 56 \r\nQ 45.21875 56 50.046875 50.171875 \r\nQ 54.890625 44.34375 54.890625 33.015625 \r\nz\r\n\" id=\"DejaVuSans-110\"/>\r\n      <path d=\"M 45.40625 27.984375 \r\nQ 45.40625 37.75 41.375 43.109375 \r\nQ 37.359375 48.484375 30.078125 48.484375 \r\nQ 22.859375 48.484375 18.828125 43.109375 \r\nQ 14.796875 37.75 14.796875 27.984375 \r\nQ 14.796875 18.265625 18.828125 12.890625 \r\nQ 22.859375 7.515625 30.078125 7.515625 \r\nQ 37.359375 7.515625 41.375 12.890625 \r\nQ 45.40625 18.265625 45.40625 27.984375 \r\nz\r\nM 54.390625 6.78125 \r\nQ 54.390625 -7.171875 48.1875 -13.984375 \r\nQ 42 -20.796875 29.203125 -20.796875 \r\nQ 24.46875 -20.796875 20.265625 -20.09375 \r\nQ 16.0625 -19.390625 12.109375 -17.921875 \r\nL 12.109375 -9.1875 \r\nQ 16.0625 -11.328125 19.921875 -12.34375 \r\nQ 23.78125 -13.375 27.78125 -13.375 \r\nQ 36.625 -13.375 41.015625 -8.765625 \r\nQ 45.40625 -4.15625 45.40625 5.171875 \r\nL 45.40625 9.625 \r\nQ 42.625 4.78125 38.28125 2.390625 \r\nQ 33.9375 0 27.875 0 \r\nQ 17.828125 0 11.671875 7.65625 \r\nQ 5.515625 15.328125 5.515625 27.984375 \r\nQ 5.515625 40.671875 11.671875 48.328125 \r\nQ 17.828125 56 27.875 56 \r\nQ 33.9375 56 38.28125 53.609375 \r\nQ 42.625 51.21875 45.40625 46.390625 \r\nL 45.40625 54.6875 \r\nL 54.390625 54.6875 \r\nz\r\n\" id=\"DejaVuSans-103\"/>\r\n      <path id=\"DejaVuSans-32\"/>\r\n      <path d=\"M 9.421875 75.984375 \r\nL 18.40625 75.984375 \r\nL 18.40625 0 \r\nL 9.421875 0 \r\nz\r\n\" id=\"DejaVuSans-108\"/>\r\n     </defs>\r\n     <use xlink:href=\"#DejaVuSans-84\"/>\r\n     <use x=\"46.333984\" xlink:href=\"#DejaVuSans-114\"/>\r\n     <use x=\"87.447266\" xlink:href=\"#DejaVuSans-97\"/>\r\n     <use x=\"148.726562\" xlink:href=\"#DejaVuSans-105\"/>\r\n     <use x=\"176.509766\" xlink:href=\"#DejaVuSans-110\"/>\r\n     <use x=\"239.888672\" xlink:href=\"#DejaVuSans-105\"/>\r\n     <use x=\"267.671875\" xlink:href=\"#DejaVuSans-110\"/>\r\n     <use x=\"331.050781\" xlink:href=\"#DejaVuSans-103\"/>\r\n     <use x=\"394.527344\" xlink:href=\"#DejaVuSans-32\"/>\r\n     <use x=\"426.314453\" xlink:href=\"#DejaVuSans-108\"/>\r\n     <use x=\"454.097656\" xlink:href=\"#DejaVuSans-111\"/>\r\n     <use x=\"515.279297\" xlink:href=\"#DejaVuSans-115\"/>\r\n     <use x=\"567.378906\" xlink:href=\"#DejaVuSans-115\"/>\r\n    </g>\r\n   </g>\r\n  </g>\r\n </g>\r\n <defs>\r\n  <clipPath id=\"pe18c77c1cc\">\r\n   <rect height=\"217.44\" width=\"334.8\" x=\"43.78125\" y=\"22.318125\"/>\r\n  </clipPath>\r\n </defs>\r\n</svg>\r\n",
      "image/png": "[encoded data removed]"
     },
     "metadata": {
      "needs_background": "light"
     }
    }
   ],
   "source": [
    "nb_steps_loss_sum = 10\n",
    "loss = training(batch_size=batch_size, nb_steps_loss_sum=nb_steps_loss_sum,epochs=epochs)\n",
    "\n",
    "# Plotting the loss over training\n",
    "plt.figure()\n",
    "plt.plot(range(0, len(loss)), loss)\n",
    "plt.xlabel(f\"Batches/{nb_steps_loss_sum}\")\n",
    "plt.ylabel(\"Loss\")\n",
    "plt.title(\"Training loss\")\n",
    "plt.show()\n",
    "plt.close()"
   ]
  },
  {
   "cell_type": "code",
   "execution_count": 13,
   "metadata": {},
   "outputs": [],
   "source": [
    "def computeScore(X, y,batch_size):\n",
    "    correct = 0\n",
    "    total = 0\n",
    "    with torch.no_grad():\n",
    "        for idx in range(0, X.shape[0], batch_size):\n",
    "            \n",
    "            outputs = my_nn(X)\n",
    "            max_pred = torch.max(outputs,1)\n",
    "            max_target = torch.max(y,1)\n",
    "            if max_pred[1][idx]==max_target[1][idx]:\n",
    "                correct += 1\n",
    "            total = total +1\n",
    "        \n",
    "    accuracy = correct/total * 100\n",
    "    print(f\"Accuracy of the network on the {total} samples: {accuracy:.2f}%\")"
   ]
  },
  {
   "cell_type": "code",
   "execution_count": 14,
   "metadata": {},
   "outputs": [
    {
     "output_type": "stream",
     "name": "stdout",
     "text": [
      "Accuracy of the network on the 80 samples: 80.00%\nAccuracy of the network on the 20 samples: 85.00%\n"
     ]
    }
   ],
   "source": [
    "computeScore(X_train, y_train,batch_size)\n",
    "computeScore(X_test, y_test,batch_size)"
   ]
  },
  {
   "cell_type": "code",
   "execution_count": 15,
   "metadata": {},
   "outputs": [
    {
     "output_type": "stream",
     "name": "stdout",
     "text": [
      "1\nSiLU()\n"
     ]
    }
   ],
   "source": [
    "for (i,func) in list(enumerate(activation_function))[1:]:\n",
    "    print(i)\n",
    "    print(func)"
   ]
  },
  {
   "cell_type": "code",
   "execution_count": null,
   "metadata": {},
   "outputs": [],
   "source": []
  }
 ]
}